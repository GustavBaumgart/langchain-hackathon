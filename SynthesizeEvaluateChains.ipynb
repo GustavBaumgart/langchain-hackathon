{
 "cells": [
  {
   "cell_type": "code",
   "execution_count": 1,
   "id": "b8375b55",
   "metadata": {},
   "outputs": [
    {
     "name": "stdout",
     "output_type": "stream",
     "text": [
      "Requirement already satisfied: langchain in /Users/jonahusadi/.pyenv/versions/3.10.0/lib/python3.10/site-packages (0.0.181)\n",
      "Requirement already satisfied: openapi-schema-pydantic<2.0,>=1.2 in /Users/jonahusadi/.pyenv/versions/3.10.0/lib/python3.10/site-packages (from langchain) (1.2.4)\n",
      "Requirement already satisfied: numpy<2,>=1 in /Users/jonahusadi/.pyenv/versions/3.10.0/lib/python3.10/site-packages (from langchain) (1.24.3)\n",
      "Requirement already satisfied: aiohttp<4.0.0,>=3.8.3 in /Users/jonahusadi/.pyenv/versions/3.10.0/lib/python3.10/site-packages (from langchain) (3.8.4)\n",
      "Requirement already satisfied: PyYAML>=5.4.1 in /Users/jonahusadi/.pyenv/versions/3.10.0/lib/python3.10/site-packages (from langchain) (6.0)\n",
      "Requirement already satisfied: SQLAlchemy<3,>=1.4 in /Users/jonahusadi/.pyenv/versions/3.10.0/lib/python3.10/site-packages (from langchain) (2.0.15)\n",
      "Requirement already satisfied: requests<3,>=2 in /Users/jonahusadi/.pyenv/versions/3.10.0/lib/python3.10/site-packages (from langchain) (2.31.0)\n",
      "Requirement already satisfied: pydantic<2,>=1 in /Users/jonahusadi/.pyenv/versions/3.10.0/lib/python3.10/site-packages (from langchain) (1.10.8)\n",
      "Requirement already satisfied: tenacity<9.0.0,>=8.1.0 in /Users/jonahusadi/.pyenv/versions/3.10.0/lib/python3.10/site-packages (from langchain) (8.2.2)\n",
      "Requirement already satisfied: dataclasses-json<0.6.0,>=0.5.7 in /Users/jonahusadi/.pyenv/versions/3.10.0/lib/python3.10/site-packages (from langchain) (0.5.7)\n",
      "Requirement already satisfied: numexpr<3.0.0,>=2.8.4 in /Users/jonahusadi/.pyenv/versions/3.10.0/lib/python3.10/site-packages (from langchain) (2.8.4)\n",
      "Requirement already satisfied: async-timeout<5.0.0,>=4.0.0 in /Users/jonahusadi/.pyenv/versions/3.10.0/lib/python3.10/site-packages (from langchain) (4.0.2)\n",
      "Requirement already satisfied: multidict<7.0,>=4.5 in /Users/jonahusadi/.pyenv/versions/3.10.0/lib/python3.10/site-packages (from aiohttp<4.0.0,>=3.8.3->langchain) (6.0.4)\n",
      "Requirement already satisfied: yarl<2.0,>=1.0 in /Users/jonahusadi/.pyenv/versions/3.10.0/lib/python3.10/site-packages (from aiohttp<4.0.0,>=3.8.3->langchain) (1.9.2)\n",
      "Requirement already satisfied: attrs>=17.3.0 in /Users/jonahusadi/.pyenv/versions/3.10.0/lib/python3.10/site-packages (from aiohttp<4.0.0,>=3.8.3->langchain) (23.1.0)\n",
      "Requirement already satisfied: aiosignal>=1.1.2 in /Users/jonahusadi/.pyenv/versions/3.10.0/lib/python3.10/site-packages (from aiohttp<4.0.0,>=3.8.3->langchain) (1.3.1)\n",
      "Requirement already satisfied: charset-normalizer<4.0,>=2.0 in /Users/jonahusadi/.pyenv/versions/3.10.0/lib/python3.10/site-packages (from aiohttp<4.0.0,>=3.8.3->langchain) (3.1.0)\n",
      "Requirement already satisfied: frozenlist>=1.1.1 in /Users/jonahusadi/.pyenv/versions/3.10.0/lib/python3.10/site-packages (from aiohttp<4.0.0,>=3.8.3->langchain) (1.3.3)\n",
      "Requirement already satisfied: marshmallow-enum<2.0.0,>=1.5.1 in /Users/jonahusadi/.pyenv/versions/3.10.0/lib/python3.10/site-packages (from dataclasses-json<0.6.0,>=0.5.7->langchain) (1.5.1)\n",
      "Requirement already satisfied: typing-inspect>=0.4.0 in /Users/jonahusadi/.pyenv/versions/3.10.0/lib/python3.10/site-packages (from dataclasses-json<0.6.0,>=0.5.7->langchain) (0.9.0)\n",
      "Requirement already satisfied: marshmallow<4.0.0,>=3.3.0 in /Users/jonahusadi/.pyenv/versions/3.10.0/lib/python3.10/site-packages (from dataclasses-json<0.6.0,>=0.5.7->langchain) (3.19.0)\n",
      "Requirement already satisfied: packaging>=17.0 in /Users/jonahusadi/.pyenv/versions/3.10.0/lib/python3.10/site-packages (from marshmallow<4.0.0,>=3.3.0->dataclasses-json<0.6.0,>=0.5.7->langchain) (23.1)\n",
      "Requirement already satisfied: typing-extensions>=4.2.0 in /Users/jonahusadi/.pyenv/versions/3.10.0/lib/python3.10/site-packages (from pydantic<2,>=1->langchain) (4.6.2)\n",
      "Requirement already satisfied: certifi>=2017.4.17 in /Users/jonahusadi/.pyenv/versions/3.10.0/lib/python3.10/site-packages (from requests<3,>=2->langchain) (2023.5.7)\n",
      "Requirement already satisfied: urllib3<3,>=1.21.1 in /Users/jonahusadi/.pyenv/versions/3.10.0/lib/python3.10/site-packages (from requests<3,>=2->langchain) (2.0.2)\n",
      "Requirement already satisfied: idna<4,>=2.5 in /Users/jonahusadi/.pyenv/versions/3.10.0/lib/python3.10/site-packages (from requests<3,>=2->langchain) (3.4)\n",
      "Requirement already satisfied: mypy-extensions>=0.3.0 in /Users/jonahusadi/.pyenv/versions/3.10.0/lib/python3.10/site-packages (from typing-inspect>=0.4.0->dataclasses-json<0.6.0,>=0.5.7->langchain) (1.0.0)\n",
      "\u001b[33mWARNING: You are using pip version 21.2.3; however, version 23.1.2 is available.\n",
      "You should consider upgrading via the '/Users/jonahusadi/.pyenv/versions/3.10.0/bin/python3.10 -m pip install --upgrade pip' command.\u001b[0m\n",
      "Collecting streamlit\n",
      "  Downloading streamlit-1.22.0-py2.py3-none-any.whl (8.9 MB)\n",
      "\u001b[K     |████████████████████████████████| 8.9 MB 15.5 MB/s eta 0:00:01\n",
      "\u001b[?25hRequirement already satisfied: python-dateutil in /Users/jonahusadi/.pyenv/versions/3.10.0/lib/python3.10/site-packages (from streamlit) (2.8.2)\n",
      "Collecting toml\n",
      "  Downloading toml-0.10.2-py2.py3-none-any.whl (16 kB)\n",
      "Collecting altair<5,>=3.2.0\n",
      "  Downloading altair-4.2.2-py3-none-any.whl (813 kB)\n",
      "\u001b[K     |████████████████████████████████| 813 kB 6.7 MB/s eta 0:00:01     |███████████████████████████     | 686 kB 6.7 MB/s eta 0:00:01\n",
      "\u001b[?25hRequirement already satisfied: numpy in /Users/jonahusadi/.pyenv/versions/3.10.0/lib/python3.10/site-packages (from streamlit) (1.24.3)\n",
      "Collecting rich>=10.11.0\n",
      "  Downloading rich-13.3.5-py3-none-any.whl (238 kB)\n",
      "\u001b[K     |████████████████████████████████| 238 kB 7.5 MB/s eta 0:00:01\n",
      "\u001b[?25hRequirement already satisfied: tornado>=6.0.3 in /Users/jonahusadi/.pyenv/versions/3.10.0/lib/python3.10/site-packages (from streamlit) (6.3.2)\n",
      "Requirement already satisfied: requests>=2.4 in /Users/jonahusadi/.pyenv/versions/3.10.0/lib/python3.10/site-packages (from streamlit) (2.31.0)\n",
      "Collecting protobuf<4,>=3.12\n",
      "  Downloading protobuf-3.20.3-py2.py3-none-any.whl (162 kB)\n",
      "\u001b[K     |████████████████████████████████| 162 kB 8.5 MB/s eta 0:00:01\n",
      "\u001b[?25hCollecting importlib-metadata>=1.4\n",
      "  Downloading importlib_metadata-6.6.0-py3-none-any.whl (22 kB)\n",
      "Collecting pyarrow>=4.0\n",
      "  Downloading pyarrow-12.0.0-cp310-cp310-macosx_11_0_arm64.whl (22.6 MB)\n",
      "\u001b[K     |████████████████████████████████| 22.6 MB 569 kB/s eta 0:00:01\n",
      "\u001b[?25hCollecting pympler>=0.9\n",
      "  Downloading Pympler-1.0.1-py3-none-any.whl (164 kB)\n",
      "\u001b[K     |████████████████████████████████| 164 kB 2.5 MB/s eta 0:00:01\n",
      "\u001b[?25hCollecting cachetools>=4.0\n",
      "  Downloading cachetools-5.3.0-py3-none-any.whl (9.3 kB)\n",
      "Collecting gitpython!=3.1.19\n",
      "  Downloading GitPython-3.1.31-py3-none-any.whl (184 kB)\n",
      "\u001b[K     |████████████████████████████████| 184 kB 8.7 MB/s eta 0:00:01\n",
      "\u001b[?25hCollecting pandas<3,>=0.25\n",
      "  Downloading pandas-2.0.1-cp310-cp310-macosx_11_0_arm64.whl (10.8 MB)\n",
      "\u001b[K     |████████████████████████████████| 10.8 MB 618 kB/s eta 0:00:01    |██████████████                  | 4.8 MB 9.3 MB/s eta 0:00:01\n",
      "\u001b[?25hCollecting validators>=0.2\n",
      "  Downloading validators-0.20.0.tar.gz (30 kB)\n",
      "Requirement already satisfied: typing-extensions>=3.10.0.0 in /Users/jonahusadi/.pyenv/versions/3.10.0/lib/python3.10/site-packages (from streamlit) (4.6.2)\n",
      "Collecting tzlocal>=1.1\n",
      "  Downloading tzlocal-5.0.1-py3-none-any.whl (20 kB)\n",
      "Collecting blinker>=1.0.0\n",
      "  Downloading blinker-1.6.2-py3-none-any.whl (13 kB)\n",
      "Collecting pillow>=6.2.0\n",
      "  Downloading Pillow-9.5.0-cp310-cp310-macosx_11_0_arm64.whl (3.1 MB)\n",
      "\u001b[K     |████████████████████████████████| 3.1 MB 5.5 MB/s eta 0:00:01\n",
      "\u001b[?25hRequirement already satisfied: packaging>=14.1 in /Users/jonahusadi/.pyenv/versions/3.10.0/lib/python3.10/site-packages (from streamlit) (23.1)\n",
      "Requirement already satisfied: tenacity<9,>=8.0.0 in /Users/jonahusadi/.pyenv/versions/3.10.0/lib/python3.10/site-packages (from streamlit) (8.2.2)\n",
      "Collecting pydeck>=0.1.dev5\n",
      "  Downloading pydeck-0.8.1b0-py2.py3-none-any.whl (4.8 MB)\n",
      "\u001b[K     |████████████████████████████████| 4.8 MB 10.1 MB/s eta 0:00:01\n",
      "\u001b[?25hCollecting click>=7.0\n",
      "  Downloading click-8.1.3-py3-none-any.whl (96 kB)\n",
      "\u001b[K     |████████████████████████████████| 96 kB 9.5 MB/s  eta 0:00:01\n",
      "\u001b[?25hRequirement already satisfied: jinja2 in /Users/jonahusadi/.pyenv/versions/3.10.0/lib/python3.10/site-packages (from altair<5,>=3.2.0->streamlit) (3.1.2)\n",
      "Collecting toolz\n",
      "  Downloading toolz-0.12.0-py3-none-any.whl (55 kB)\n",
      "\u001b[K     |████████████████████████████████| 55 kB 4.2 MB/s  eta 0:00:01\n",
      "\u001b[?25hCollecting entrypoints\n",
      "  Downloading entrypoints-0.4-py3-none-any.whl (5.3 kB)\n",
      "Requirement already satisfied: jsonschema>=3.0 in /Users/jonahusadi/.pyenv/versions/3.10.0/lib/python3.10/site-packages (from altair<5,>=3.2.0->streamlit) (4.17.3)\n",
      "Collecting gitdb<5,>=4.0.1\n",
      "  Downloading gitdb-4.0.10-py3-none-any.whl (62 kB)\n",
      "\u001b[K     |████████████████████████████████| 62 kB 4.8 MB/s  eta 0:00:01\n",
      "\u001b[?25hCollecting smmap<6,>=3.0.1\n",
      "  Downloading smmap-5.0.0-py3-none-any.whl (24 kB)\n",
      "Collecting zipp>=0.5\n",
      "  Downloading zipp-3.15.0-py3-none-any.whl (6.8 kB)\n",
      "Requirement already satisfied: pyrsistent!=0.17.0,!=0.17.1,!=0.17.2,>=0.14.0 in /Users/jonahusadi/.pyenv/versions/3.10.0/lib/python3.10/site-packages (from jsonschema>=3.0->altair<5,>=3.2.0->streamlit) (0.19.3)\n",
      "Requirement already satisfied: attrs>=17.4.0 in /Users/jonahusadi/.pyenv/versions/3.10.0/lib/python3.10/site-packages (from jsonschema>=3.0->altair<5,>=3.2.0->streamlit) (23.1.0)\n",
      "Collecting pytz>=2020.1\n",
      "  Downloading pytz-2023.3-py2.py3-none-any.whl (502 kB)\n",
      "\u001b[K     |████████████████████████████████| 502 kB 2.8 MB/s eta 0:00:01\n",
      "\u001b[?25hCollecting tzdata>=2022.1\n",
      "  Downloading tzdata-2023.3-py2.py3-none-any.whl (341 kB)\n",
      "\u001b[K     |████████████████████████████████| 341 kB 9.1 MB/s eta 0:00:01\n",
      "\u001b[?25hRequirement already satisfied: MarkupSafe>=2.0 in /Users/jonahusadi/.pyenv/versions/3.10.0/lib/python3.10/site-packages (from jinja2->altair<5,>=3.2.0->streamlit) (2.1.2)\n",
      "Requirement already satisfied: six>=1.5 in /Users/jonahusadi/.pyenv/versions/3.10.0/lib/python3.10/site-packages (from python-dateutil->streamlit) (1.16.0)\n",
      "Requirement already satisfied: charset-normalizer<4,>=2 in /Users/jonahusadi/.pyenv/versions/3.10.0/lib/python3.10/site-packages (from requests>=2.4->streamlit) (3.1.0)\n",
      "Requirement already satisfied: certifi>=2017.4.17 in /Users/jonahusadi/.pyenv/versions/3.10.0/lib/python3.10/site-packages (from requests>=2.4->streamlit) (2023.5.7)\n",
      "Requirement already satisfied: urllib3<3,>=1.21.1 in /Users/jonahusadi/.pyenv/versions/3.10.0/lib/python3.10/site-packages (from requests>=2.4->streamlit) (2.0.2)\n",
      "Requirement already satisfied: idna<4,>=2.5 in /Users/jonahusadi/.pyenv/versions/3.10.0/lib/python3.10/site-packages (from requests>=2.4->streamlit) (3.4)\n",
      "Requirement already satisfied: pygments<3.0.0,>=2.13.0 in /Users/jonahusadi/.pyenv/versions/3.10.0/lib/python3.10/site-packages (from rich>=10.11.0->streamlit) (2.15.1)\n",
      "Collecting markdown-it-py<3.0.0,>=2.2.0\n",
      "  Downloading markdown_it_py-2.2.0-py3-none-any.whl (84 kB)\n",
      "\u001b[K     |████████████████████████████████| 84 kB 533 kB/s eta 0:00:011\n",
      "\u001b[?25hCollecting mdurl~=0.1\n",
      "  Downloading mdurl-0.1.2-py3-none-any.whl (10.0 kB)\n",
      "Requirement already satisfied: decorator>=3.4.0 in /Users/jonahusadi/.pyenv/versions/3.10.0/lib/python3.10/site-packages (from validators>=0.2->streamlit) (5.1.1)\n",
      "Using legacy 'setup.py install' for validators, since package 'wheel' is not installed.\n",
      "Installing collected packages: tzdata, smmap, pytz, mdurl, zipp, toolz, pandas, markdown-it-py, gitdb, entrypoints, validators, tzlocal, toml, rich, pympler, pydeck, pyarrow, protobuf, pillow, importlib-metadata, gitpython, click, cachetools, blinker, altair, streamlit\n",
      "    Running setup.py install for validators ... \u001b[?25ldone\n",
      "\u001b[?25hSuccessfully installed altair-4.2.2 blinker-1.6.2 cachetools-5.3.0 click-8.1.3 entrypoints-0.4 gitdb-4.0.10 gitpython-3.1.31 importlib-metadata-6.6.0 markdown-it-py-2.2.0 mdurl-0.1.2 pandas-2.0.1 pillow-9.5.0 protobuf-3.20.3 pyarrow-12.0.0 pydeck-0.8.1b0 pympler-1.0.1 pytz-2023.3 rich-13.3.5 smmap-5.0.0 streamlit-1.22.0 toml-0.10.2 toolz-0.12.0 tzdata-2023.3 tzlocal-5.0.1 validators-0.20.0 zipp-3.15.0\n",
      "\u001b[33mWARNING: You are using pip version 21.2.3; however, version 23.1.2 is available.\n",
      "You should consider upgrading via the '/Users/jonahusadi/.pyenv/versions/3.10.0/bin/python3.10 -m pip install --upgrade pip' command.\u001b[0m\n",
      "Requirement already satisfied: openai in /Users/jonahusadi/.pyenv/versions/3.10.0/lib/python3.10/site-packages (0.27.7)\n",
      "Requirement already satisfied: requests>=2.20 in /Users/jonahusadi/.pyenv/versions/3.10.0/lib/python3.10/site-packages (from openai) (2.31.0)\n",
      "Requirement already satisfied: tqdm in /Users/jonahusadi/.pyenv/versions/3.10.0/lib/python3.10/site-packages (from openai) (4.65.0)\n",
      "Requirement already satisfied: aiohttp in /Users/jonahusadi/.pyenv/versions/3.10.0/lib/python3.10/site-packages (from openai) (3.8.4)\n",
      "Requirement already satisfied: certifi>=2017.4.17 in /Users/jonahusadi/.pyenv/versions/3.10.0/lib/python3.10/site-packages (from requests>=2.20->openai) (2023.5.7)\n",
      "Requirement already satisfied: idna<4,>=2.5 in /Users/jonahusadi/.pyenv/versions/3.10.0/lib/python3.10/site-packages (from requests>=2.20->openai) (3.4)\n",
      "Requirement already satisfied: urllib3<3,>=1.21.1 in /Users/jonahusadi/.pyenv/versions/3.10.0/lib/python3.10/site-packages (from requests>=2.20->openai) (2.0.2)\n",
      "Requirement already satisfied: charset-normalizer<4,>=2 in /Users/jonahusadi/.pyenv/versions/3.10.0/lib/python3.10/site-packages (from requests>=2.20->openai) (3.1.0)\n",
      "Requirement already satisfied: aiosignal>=1.1.2 in /Users/jonahusadi/.pyenv/versions/3.10.0/lib/python3.10/site-packages (from aiohttp->openai) (1.3.1)\n",
      "Requirement already satisfied: multidict<7.0,>=4.5 in /Users/jonahusadi/.pyenv/versions/3.10.0/lib/python3.10/site-packages (from aiohttp->openai) (6.0.4)\n",
      "Requirement already satisfied: async-timeout<5.0,>=4.0.0a3 in /Users/jonahusadi/.pyenv/versions/3.10.0/lib/python3.10/site-packages (from aiohttp->openai) (4.0.2)\n",
      "Requirement already satisfied: frozenlist>=1.1.1 in /Users/jonahusadi/.pyenv/versions/3.10.0/lib/python3.10/site-packages (from aiohttp->openai) (1.3.3)\n",
      "Requirement already satisfied: yarl<2.0,>=1.0 in /Users/jonahusadi/.pyenv/versions/3.10.0/lib/python3.10/site-packages (from aiohttp->openai) (1.9.2)\n",
      "Requirement already satisfied: attrs>=17.3.0 in /Users/jonahusadi/.pyenv/versions/3.10.0/lib/python3.10/site-packages (from aiohttp->openai) (23.1.0)\n",
      "\u001b[33mWARNING: You are using pip version 21.2.3; however, version 23.1.2 is available.\n",
      "You should consider upgrading via the '/Users/jonahusadi/.pyenv/versions/3.10.0/bin/python3.10 -m pip install --upgrade pip' command.\u001b[0m\n",
      "Collecting aleph_alpha_client\n",
      "  Downloading aleph_alpha_client-3.1.1-py3-none-any.whl (32 kB)\n",
      "Requirement already satisfied: urllib3>=1.26 in /Users/jonahusadi/.pyenv/versions/3.10.0/lib/python3.10/site-packages (from aleph_alpha_client) (2.0.2)\n",
      "Collecting aiohttp-retry>=2.8.3\n",
      "  Downloading aiohttp_retry-2.8.3-py3-none-any.whl (9.8 kB)\n",
      "Requirement already satisfied: typing-extensions>=4.5.0 in /Users/jonahusadi/.pyenv/versions/3.10.0/lib/python3.10/site-packages (from aleph_alpha_client) (4.6.2)\n",
      "Requirement already satisfied: aiohttp>=3.8.3 in /Users/jonahusadi/.pyenv/versions/3.10.0/lib/python3.10/site-packages (from aleph_alpha_client) (3.8.4)\n",
      "Collecting aiodns>=3.0.0\n",
      "  Downloading aiodns-3.0.0-py3-none-any.whl (5.0 kB)\n",
      "Requirement already satisfied: requests>=2.28 in /Users/jonahusadi/.pyenv/versions/3.10.0/lib/python3.10/site-packages (from aleph_alpha_client) (2.31.0)\n",
      "Collecting tokenizers>=0.13.2\n",
      "  Downloading tokenizers-0.13.3-cp310-cp310-macosx_12_0_arm64.whl (3.9 MB)\n",
      "\u001b[K     |████████████████████████████████| 3.9 MB 10.5 MB/s eta 0:00:01\n",
      "\u001b[?25hRequirement already satisfied: Pillow>=9.2.0 in /Users/jonahusadi/.pyenv/versions/3.10.0/lib/python3.10/site-packages (from aleph_alpha_client) (9.5.0)\n",
      "Collecting pycares>=4.0.0\n",
      "  Downloading pycares-4.3.0-cp310-cp310-macosx_10_9_universal2.whl (136 kB)\n",
      "\u001b[K     |████████████████████████████████| 136 kB 8.3 MB/s eta 0:00:01\n",
      "\u001b[?25hRequirement already satisfied: attrs>=17.3.0 in /Users/jonahusadi/.pyenv/versions/3.10.0/lib/python3.10/site-packages (from aiohttp>=3.8.3->aleph_alpha_client) (23.1.0)\n",
      "Requirement already satisfied: multidict<7.0,>=4.5 in /Users/jonahusadi/.pyenv/versions/3.10.0/lib/python3.10/site-packages (from aiohttp>=3.8.3->aleph_alpha_client) (6.0.4)\n",
      "Requirement already satisfied: frozenlist>=1.1.1 in /Users/jonahusadi/.pyenv/versions/3.10.0/lib/python3.10/site-packages (from aiohttp>=3.8.3->aleph_alpha_client) (1.3.3)\n",
      "Requirement already satisfied: async-timeout<5.0,>=4.0.0a3 in /Users/jonahusadi/.pyenv/versions/3.10.0/lib/python3.10/site-packages (from aiohttp>=3.8.3->aleph_alpha_client) (4.0.2)\n",
      "Requirement already satisfied: aiosignal>=1.1.2 in /Users/jonahusadi/.pyenv/versions/3.10.0/lib/python3.10/site-packages (from aiohttp>=3.8.3->aleph_alpha_client) (1.3.1)\n",
      "Requirement already satisfied: charset-normalizer<4.0,>=2.0 in /Users/jonahusadi/.pyenv/versions/3.10.0/lib/python3.10/site-packages (from aiohttp>=3.8.3->aleph_alpha_client) (3.1.0)\n",
      "Requirement already satisfied: yarl<2.0,>=1.0 in /Users/jonahusadi/.pyenv/versions/3.10.0/lib/python3.10/site-packages (from aiohttp>=3.8.3->aleph_alpha_client) (1.9.2)\n",
      "Requirement already satisfied: cffi>=1.5.0 in /Users/jonahusadi/.pyenv/versions/3.10.0/lib/python3.10/site-packages (from pycares>=4.0.0->aiodns>=3.0.0->aleph_alpha_client) (1.15.1)\n",
      "Requirement already satisfied: pycparser in /Users/jonahusadi/.pyenv/versions/3.10.0/lib/python3.10/site-packages (from cffi>=1.5.0->pycares>=4.0.0->aiodns>=3.0.0->aleph_alpha_client) (2.21)\n",
      "Requirement already satisfied: idna<4,>=2.5 in /Users/jonahusadi/.pyenv/versions/3.10.0/lib/python3.10/site-packages (from requests>=2.28->aleph_alpha_client) (3.4)\n",
      "Requirement already satisfied: certifi>=2017.4.17 in /Users/jonahusadi/.pyenv/versions/3.10.0/lib/python3.10/site-packages (from requests>=2.28->aleph_alpha_client) (2023.5.7)\n",
      "Installing collected packages: pycares, tokenizers, aiohttp-retry, aiodns, aleph-alpha-client\n",
      "Successfully installed aiodns-3.0.0 aiohttp-retry-2.8.3 aleph-alpha-client-3.1.1 pycares-4.3.0 tokenizers-0.13.3\n",
      "\u001b[33mWARNING: You are using pip version 21.2.3; however, version 23.1.2 is available.\n",
      "You should consider upgrading via the '/Users/jonahusadi/.pyenv/versions/3.10.0/bin/python3.10 -m pip install --upgrade pip' command.\u001b[0m\n",
      "Collecting replicate\n",
      "  Downloading replicate-0.8.3-py3-none-any.whl (21 kB)\n",
      "Requirement already satisfied: packaging in /Users/jonahusadi/.pyenv/versions/3.10.0/lib/python3.10/site-packages (from replicate) (23.1)\n",
      "Requirement already satisfied: pydantic>1 in /Users/jonahusadi/.pyenv/versions/3.10.0/lib/python3.10/site-packages (from replicate) (1.10.8)\n",
      "Requirement already satisfied: requests>2 in /Users/jonahusadi/.pyenv/versions/3.10.0/lib/python3.10/site-packages (from replicate) (2.31.0)\n",
      "Requirement already satisfied: typing-extensions>=4.2.0 in /Users/jonahusadi/.pyenv/versions/3.10.0/lib/python3.10/site-packages (from pydantic>1->replicate) (4.6.2)\n",
      "Requirement already satisfied: charset-normalizer<4,>=2 in /Users/jonahusadi/.pyenv/versions/3.10.0/lib/python3.10/site-packages (from requests>2->replicate) (3.1.0)\n",
      "Requirement already satisfied: urllib3<3,>=1.21.1 in /Users/jonahusadi/.pyenv/versions/3.10.0/lib/python3.10/site-packages (from requests>2->replicate) (2.0.2)\n",
      "Requirement already satisfied: idna<4,>=2.5 in /Users/jonahusadi/.pyenv/versions/3.10.0/lib/python3.10/site-packages (from requests>2->replicate) (3.4)\n",
      "Requirement already satisfied: certifi>=2017.4.17 in /Users/jonahusadi/.pyenv/versions/3.10.0/lib/python3.10/site-packages (from requests>2->replicate) (2023.5.7)\n",
      "Installing collected packages: replicate\n",
      "Successfully installed replicate-0.8.3\n",
      "\u001b[33mWARNING: You are using pip version 21.2.3; however, version 23.1.2 is available.\n",
      "You should consider upgrading via the '/Users/jonahusadi/.pyenv/versions/3.10.0/bin/python3.10 -m pip install --upgrade pip' command.\u001b[0m\n",
      "Collecting huggingface_hub\n",
      "  Downloading huggingface_hub-0.14.1-py3-none-any.whl (224 kB)\n",
      "\u001b[K     |████████████████████████████████| 224 kB 7.8 MB/s eta 0:00:01\n",
      "\u001b[?25hRequirement already satisfied: pyyaml>=5.1 in /Users/jonahusadi/.pyenv/versions/3.10.0/lib/python3.10/site-packages (from huggingface_hub) (6.0)\n",
      "Requirement already satisfied: requests in /Users/jonahusadi/.pyenv/versions/3.10.0/lib/python3.10/site-packages (from huggingface_hub) (2.31.0)\n",
      "Collecting fsspec\n",
      "  Downloading fsspec-2023.5.0-py3-none-any.whl (160 kB)\n",
      "\u001b[K     |████████████████████████████████| 160 kB 9.9 MB/s eta 0:00:01\n",
      "\u001b[?25hRequirement already satisfied: packaging>=20.9 in /Users/jonahusadi/.pyenv/versions/3.10.0/lib/python3.10/site-packages (from huggingface_hub) (23.1)\n",
      "Requirement already satisfied: typing-extensions>=3.7.4.3 in /Users/jonahusadi/.pyenv/versions/3.10.0/lib/python3.10/site-packages (from huggingface_hub) (4.6.2)\n",
      "Requirement already satisfied: tqdm>=4.42.1 in /Users/jonahusadi/.pyenv/versions/3.10.0/lib/python3.10/site-packages (from huggingface_hub) (4.65.0)\n",
      "Collecting filelock\n",
      "  Downloading filelock-3.12.0-py3-none-any.whl (10 kB)\n",
      "Requirement already satisfied: certifi>=2017.4.17 in /Users/jonahusadi/.pyenv/versions/3.10.0/lib/python3.10/site-packages (from requests->huggingface_hub) (2023.5.7)\n",
      "Requirement already satisfied: charset-normalizer<4,>=2 in /Users/jonahusadi/.pyenv/versions/3.10.0/lib/python3.10/site-packages (from requests->huggingface_hub) (3.1.0)\n",
      "Requirement already satisfied: urllib3<3,>=1.21.1 in /Users/jonahusadi/.pyenv/versions/3.10.0/lib/python3.10/site-packages (from requests->huggingface_hub) (2.0.2)\n",
      "Requirement already satisfied: idna<4,>=2.5 in /Users/jonahusadi/.pyenv/versions/3.10.0/lib/python3.10/site-packages (from requests->huggingface_hub) (3.4)\n",
      "Installing collected packages: fsspec, filelock, huggingface-hub\n",
      "Successfully installed filelock-3.12.0 fsspec-2023.5.0 huggingface-hub-0.14.1\n",
      "\u001b[33mWARNING: You are using pip version 21.2.3; however, version 23.1.2 is available.\n",
      "You should consider upgrading via the '/Users/jonahusadi/.pyenv/versions/3.10.0/bin/python3.10 -m pip install --upgrade pip' command.\u001b[0m\n",
      "Collecting chromadb\n",
      "  Downloading chromadb-0.3.25-py3-none-any.whl (86 kB)\n",
      "\u001b[K     |████████████████████████████████| 86 kB 8.0 MB/s eta 0:00:011\n",
      "\u001b[?25hCollecting fastapi>=0.85.1\n",
      "  Downloading fastapi-0.95.2-py3-none-any.whl (56 kB)\n",
      "\u001b[K     |████████████████████████████████| 56 kB 10.1 MB/s eta 0:00:01\n",
      "\u001b[?25hCollecting duckdb>=0.7.1\n",
      "  Downloading duckdb-0.8.0-cp310-cp310-macosx_11_0_arm64.whl (12.6 MB)\n",
      "\u001b[K     |████████████████████████████████| 12.6 MB 10.3 MB/s eta 0:00:01    |████████████████████████▎       | 9.6 MB 10.0 MB/s eta 0:00:01\n",
      "\u001b[?25hCollecting onnxruntime>=1.14.1\n",
      "  Downloading onnxruntime-1.15.0-cp310-cp310-macosx_11_0_arm64.whl (6.1 MB)\n",
      "\u001b[K     |████████████████████████████████| 6.1 MB 10.8 MB/s eta 0:00:01\n",
      "\u001b[?25hRequirement already satisfied: requests>=2.28 in /Users/jonahusadi/.pyenv/versions/3.10.0/lib/python3.10/site-packages (from chromadb) (2.31.0)\n",
      "Collecting posthog>=2.4.0\n",
      "  Downloading posthog-3.0.1-py2.py3-none-any.whl (37 kB)\n",
      "Requirement already satisfied: typing-extensions>=4.5.0 in /Users/jonahusadi/.pyenv/versions/3.10.0/lib/python3.10/site-packages (from chromadb) (4.6.2)\n",
      "Requirement already satisfied: numpy>=1.21.6 in /Users/jonahusadi/.pyenv/versions/3.10.0/lib/python3.10/site-packages (from chromadb) (1.24.3)\n",
      "Collecting clickhouse-connect>=0.5.7\n",
      "  Downloading clickhouse_connect-0.5.25-cp310-cp310-macosx_11_0_arm64.whl (227 kB)\n",
      "\u001b[K     |████████████████████████████████| 227 kB 10.3 MB/s eta 0:00:01\n",
      "\u001b[?25hRequirement already satisfied: pydantic>=1.9 in /Users/jonahusadi/.pyenv/versions/3.10.0/lib/python3.10/site-packages (from chromadb) (1.10.8)\n",
      "Collecting uvicorn[standard]>=0.18.3\n",
      "  Downloading uvicorn-0.22.0-py3-none-any.whl (58 kB)\n",
      "\u001b[K     |████████████████████████████████| 58 kB 10.4 MB/s eta 0:00:01\n",
      "\u001b[?25hCollecting hnswlib>=0.7\n",
      "  Downloading hnswlib-0.7.0.tar.gz (33 kB)\n",
      "  Installing build dependencies ... \u001b[?25ldone\n",
      "\u001b[?25h  Getting requirements to build wheel ... \u001b[?25ldone\n",
      "\u001b[?25h    Preparing wheel metadata ... \u001b[?25ldone\n",
      "\u001b[?25hRequirement already satisfied: overrides>=7.3.1 in /Users/jonahusadi/.pyenv/versions/3.10.0/lib/python3.10/site-packages (from chromadb) (7.3.1)\n",
      "Requirement already satisfied: tqdm>=4.65.0 in /Users/jonahusadi/.pyenv/versions/3.10.0/lib/python3.10/site-packages (from chromadb) (4.65.0)\n",
      "Requirement already satisfied: tokenizers>=0.13.2 in /Users/jonahusadi/.pyenv/versions/3.10.0/lib/python3.10/site-packages (from chromadb) (0.13.3)\n",
      "Requirement already satisfied: pandas>=1.3 in /Users/jonahusadi/.pyenv/versions/3.10.0/lib/python3.10/site-packages (from chromadb) (2.0.1)\n",
      "Collecting zstandard\n",
      "  Downloading zstandard-0.21.0-cp310-cp310-macosx_11_0_arm64.whl (364 kB)\n",
      "\u001b[K     |████████████████████████████████| 364 kB 9.5 MB/s eta 0:00:01\n",
      "\u001b[?25hRequirement already satisfied: certifi in /Users/jonahusadi/.pyenv/versions/3.10.0/lib/python3.10/site-packages (from clickhouse-connect>=0.5.7->chromadb) (2023.5.7)\n",
      "Requirement already satisfied: urllib3>=1.26 in /Users/jonahusadi/.pyenv/versions/3.10.0/lib/python3.10/site-packages (from clickhouse-connect>=0.5.7->chromadb) (2.0.2)\n",
      "Collecting lz4\n",
      "  Downloading lz4-4.3.2-cp310-cp310-macosx_11_0_arm64.whl (212 kB)\n",
      "\u001b[K     |████████████████████████████████| 212 kB 11.3 MB/s eta 0:00:01\n",
      "\u001b[?25hRequirement already satisfied: pytz in /Users/jonahusadi/.pyenv/versions/3.10.0/lib/python3.10/site-packages (from clickhouse-connect>=0.5.7->chromadb) (2023.3)\n",
      "Collecting starlette<0.28.0,>=0.27.0\n",
      "  Downloading starlette-0.27.0-py3-none-any.whl (66 kB)\n",
      "\u001b[K     |████████████████████████████████| 66 kB 6.4 MB/s  eta 0:00:01\n",
      "\u001b[?25hCollecting flatbuffers\n",
      "  Downloading flatbuffers-23.5.26-py2.py3-none-any.whl (26 kB)\n",
      "Requirement already satisfied: packaging in /Users/jonahusadi/.pyenv/versions/3.10.0/lib/python3.10/site-packages (from onnxruntime>=1.14.1->chromadb) (23.1)\n",
      "Collecting coloredlogs\n",
      "  Downloading coloredlogs-15.0.1-py2.py3-none-any.whl (46 kB)\n",
      "\u001b[K     |████████████████████████████████| 46 kB 7.0 MB/s eta 0:00:01\n",
      "\u001b[?25hRequirement already satisfied: protobuf in /Users/jonahusadi/.pyenv/versions/3.10.0/lib/python3.10/site-packages (from onnxruntime>=1.14.1->chromadb) (3.20.3)\n",
      "Collecting sympy\n",
      "  Downloading sympy-1.12-py3-none-any.whl (5.7 MB)\n",
      "\u001b[K     |████████████████████████████████| 5.7 MB 9.7 MB/s eta 0:00:011\n",
      "\u001b[?25hRequirement already satisfied: tzdata>=2022.1 in /Users/jonahusadi/.pyenv/versions/3.10.0/lib/python3.10/site-packages (from pandas>=1.3->chromadb) (2023.3)\n",
      "Requirement already satisfied: python-dateutil>=2.8.2 in /Users/jonahusadi/.pyenv/versions/3.10.0/lib/python3.10/site-packages (from pandas>=1.3->chromadb) (2.8.2)\n",
      "Collecting monotonic>=1.5\n",
      "  Downloading monotonic-1.6-py2.py3-none-any.whl (8.2 kB)\n",
      "Requirement already satisfied: six>=1.5 in /Users/jonahusadi/.pyenv/versions/3.10.0/lib/python3.10/site-packages (from posthog>=2.4.0->chromadb) (1.16.0)\n",
      "Collecting backoff>=1.10.0\n",
      "  Downloading backoff-2.2.1-py3-none-any.whl (15 kB)\n",
      "Requirement already satisfied: charset-normalizer<4,>=2 in /Users/jonahusadi/.pyenv/versions/3.10.0/lib/python3.10/site-packages (from requests>=2.28->chromadb) (3.1.0)\n",
      "Requirement already satisfied: idna<4,>=2.5 in /Users/jonahusadi/.pyenv/versions/3.10.0/lib/python3.10/site-packages (from requests>=2.28->chromadb) (3.4)\n",
      "Requirement already satisfied: anyio<5,>=3.4.0 in /Users/jonahusadi/.pyenv/versions/3.10.0/lib/python3.10/site-packages (from starlette<0.28.0,>=0.27.0->fastapi>=0.85.1->chromadb) (3.7.0)\n",
      "Requirement already satisfied: sniffio>=1.1 in /Users/jonahusadi/.pyenv/versions/3.10.0/lib/python3.10/site-packages (from anyio<5,>=3.4.0->starlette<0.28.0,>=0.27.0->fastapi>=0.85.1->chromadb) (1.3.0)\n",
      "Requirement already satisfied: exceptiongroup in /Users/jonahusadi/.pyenv/versions/3.10.0/lib/python3.10/site-packages (from anyio<5,>=3.4.0->starlette<0.28.0,>=0.27.0->fastapi>=0.85.1->chromadb) (1.1.1)\n",
      "Requirement already satisfied: click>=7.0 in /Users/jonahusadi/.pyenv/versions/3.10.0/lib/python3.10/site-packages (from uvicorn[standard]>=0.18.3->chromadb) (8.1.3)\n",
      "Collecting h11>=0.8\n",
      "  Downloading h11-0.14.0-py3-none-any.whl (58 kB)\n",
      "\u001b[K     |████████████████████████████████| 58 kB 9.2 MB/s eta 0:00:011\n",
      "\u001b[?25hCollecting uvloop!=0.15.0,!=0.15.1,>=0.14.0\n",
      "  Downloading uvloop-0.17.0-cp310-cp310-macosx_10_9_universal2.whl (2.1 MB)\n",
      "\u001b[K     |████████████████████████████████| 2.1 MB 417 kB/s eta 0:00:01\n",
      "\u001b[?25hCollecting python-dotenv>=0.13\n",
      "  Downloading python_dotenv-1.0.0-py3-none-any.whl (19 kB)\n",
      "Collecting websockets>=10.4\n",
      "  Downloading websockets-11.0.3-cp310-cp310-macosx_11_0_arm64.whl (121 kB)\n",
      "\u001b[K     |████████████████████████████████| 121 kB 9.4 MB/s eta 0:00:01\n",
      "\u001b[?25hRequirement already satisfied: pyyaml>=5.1 in /Users/jonahusadi/.pyenv/versions/3.10.0/lib/python3.10/site-packages (from uvicorn[standard]>=0.18.3->chromadb) (6.0)\n",
      "Collecting watchfiles>=0.13\n",
      "  Downloading watchfiles-0.19.0-cp37-abi3-macosx_11_0_arm64.whl (388 kB)\n",
      "\u001b[K     |████████████████████████████████| 388 kB 9.4 MB/s eta 0:00:01\n",
      "\u001b[?25hCollecting httptools>=0.5.0\n",
      "  Downloading httptools-0.5.0-cp310-cp310-macosx_10_9_universal2.whl (228 kB)\n",
      "\u001b[K     |████████████████████████████████| 228 kB 2.8 MB/s eta 0:00:01\n",
      "\u001b[?25hCollecting humanfriendly>=9.1\n",
      "  Downloading humanfriendly-10.0-py2.py3-none-any.whl (86 kB)\n",
      "\u001b[K     |████████████████████████████████| 86 kB 14.9 MB/s eta 0:00:01\n",
      "\u001b[?25hCollecting mpmath>=0.19\n",
      "  Downloading mpmath-1.3.0-py3-none-any.whl (536 kB)\n",
      "\u001b[K     |████████████████████████████████| 536 kB 9.9 MB/s eta 0:00:01\n",
      "\u001b[?25hBuilding wheels for collected packages: hnswlib\n",
      "  Building wheel for hnswlib (PEP 517) ... \u001b[?25ldone\n",
      "\u001b[?25h  Created wheel for hnswlib: filename=hnswlib-0.7.0-cp310-cp310-macosx_12_0_arm64.whl size=183921 sha256=fe2596af64d07443769c733cae21d38534b938ffd73266422db786d4dbff701c\n",
      "  Stored in directory: /Users/jonahusadi/Library/Caches/pip/wheels/8a/ae/ec/235a682e0041fbaeee389843670581ec6c66872db856dfa9a4\n",
      "Successfully built hnswlib\n",
      "Installing collected packages: mpmath, humanfriendly, h11, zstandard, websockets, watchfiles, uvloop, uvicorn, sympy, starlette, python-dotenv, monotonic, lz4, httptools, flatbuffers, coloredlogs, backoff, posthog, onnxruntime, hnswlib, fastapi, duckdb, clickhouse-connect, chromadb\n",
      "Successfully installed backoff-2.2.1 chromadb-0.3.25 clickhouse-connect-0.5.25 coloredlogs-15.0.1 duckdb-0.8.0 fastapi-0.95.2 flatbuffers-23.5.26 h11-0.14.0 hnswlib-0.7.0 httptools-0.5.0 humanfriendly-10.0 lz4-4.3.2 monotonic-1.6 mpmath-1.3.0 onnxruntime-1.15.0 posthog-3.0.1 python-dotenv-1.0.0 starlette-0.27.0 sympy-1.12 uvicorn-0.22.0 uvloop-0.17.0 watchfiles-0.19.0 websockets-11.0.3 zstandard-0.21.0\n",
      "\u001b[33mWARNING: You are using pip version 21.2.3; however, version 23.1.2 is available.\n",
      "You should consider upgrading via the '/Users/jonahusadi/.pyenv/versions/3.10.0/bin/python3.10 -m pip install --upgrade pip' command.\u001b[0m\n",
      "Collecting tiktoken\n",
      "  Downloading tiktoken-0.4.0-cp310-cp310-macosx_11_0_arm64.whl (761 kB)\n",
      "\u001b[K     |████████████████████████████████| 761 kB 9.4 MB/s eta 0:00:01\n",
      "\u001b[?25hRequirement already satisfied: requests>=2.26.0 in /Users/jonahusadi/.pyenv/versions/3.10.0/lib/python3.10/site-packages (from tiktoken) (2.31.0)\n",
      "Collecting regex>=2022.1.18\n",
      "  Downloading regex-2023.5.5-cp310-cp310-macosx_11_0_arm64.whl (288 kB)\n",
      "\u001b[K     |████████████████████████████████| 288 kB 6.1 MB/s eta 0:00:01\n",
      "\u001b[?25hRequirement already satisfied: urllib3<3,>=1.21.1 in /Users/jonahusadi/.pyenv/versions/3.10.0/lib/python3.10/site-packages (from requests>=2.26.0->tiktoken) (2.0.2)\n",
      "Requirement already satisfied: certifi>=2017.4.17 in /Users/jonahusadi/.pyenv/versions/3.10.0/lib/python3.10/site-packages (from requests>=2.26.0->tiktoken) (2023.5.7)\n",
      "Requirement already satisfied: idna<4,>=2.5 in /Users/jonahusadi/.pyenv/versions/3.10.0/lib/python3.10/site-packages (from requests>=2.26.0->tiktoken) (3.4)\n",
      "Requirement already satisfied: charset-normalizer<4,>=2 in /Users/jonahusadi/.pyenv/versions/3.10.0/lib/python3.10/site-packages (from requests>=2.26.0->tiktoken) (3.1.0)\n",
      "Installing collected packages: regex, tiktoken\n",
      "Successfully installed regex-2023.5.5 tiktoken-0.4.0\n",
      "\u001b[33mWARNING: You are using pip version 21.2.3; however, version 23.1.2 is available.\n",
      "You should consider upgrading via the '/Users/jonahusadi/.pyenv/versions/3.10.0/bin/python3.10 -m pip install --upgrade pip' command.\u001b[0m\n"
     ]
    },
    {
     "name": "stdout",
     "output_type": "stream",
     "text": [
      "Requirement already satisfied: typing-extensions>=4.2.0 in /usr/local/lib/python3.11/site-packages (from pydantic>1->replicate) (4.5.0)\n",
      "Requirement already satisfied: charset-normalizer<4,>=2 in /usr/local/lib/python3.11/site-packages (from requests>2->replicate) (3.1.0)\n",
      "Requirement already satisfied: idna<4,>=2.5 in /usr/local/lib/python3.11/site-packages (from requests>2->replicate) (3.4)\n",
      "Requirement already satisfied: urllib3<3,>=1.21.1 in /usr/local/lib/python3.11/site-packages (from requests>2->replicate) (2.0.2)\n",
      "Requirement already satisfied: certifi>=2017.4.17 in /usr/local/lib/python3.11/site-packages (from requests>2->replicate) (2023.5.7)\n",
      "\u001b[33mWARNING: Skipping /usr/local/lib/python3.11/site-packages/numpy-1.24.2-py3.11.egg-info due to invalid metadata entry 'name'\u001b[0m\u001b[33m\n",
      "\u001b[0m\u001b[33mWARNING: Skipping /usr/local/lib/python3.11/site-packages/numpy-1.24.2-py3.11.egg-info due to invalid metadata entry 'name'\u001b[0m\u001b[33m\n",
      "\u001b[0m\u001b[33mWARNING: Skipping /usr/local/lib/python3.11/site-packages/numpy-1.24.2-py3.11.egg-info due to invalid metadata entry 'name'\u001b[0m\u001b[33m\n",
      "\u001b[0m\u001b[33mWARNING: Skipping /usr/local/lib/python3.11/site-packages/numpy-1.24.2-py3.11.egg-info due to invalid metadata entry 'name'\u001b[0m\u001b[33m\n",
      "\u001b[0mRequirement already satisfied: huggingface_hub in /usr/local/lib/python3.11/site-packages (0.14.1)\n",
      "Requirement already satisfied: filelock in /usr/local/lib/python3.11/site-packages (from huggingface_hub) (3.12.0)\n",
      "Requirement already satisfied: fsspec in /usr/local/lib/python3.11/site-packages (from huggingface_hub) (2023.5.0)\n",
      "Requirement already satisfied: requests in /usr/local/lib/python3.11/site-packages (from huggingface_hub) (2.30.0)\n",
      "Requirement already satisfied: tqdm>=4.42.1 in /usr/local/lib/python3.11/site-packages (from huggingface_hub) (4.65.0)\n",
      "Requirement already satisfied: pyyaml>=5.1 in /usr/local/lib/python3.11/site-packages (from huggingface_hub) (6.0)\n",
      "Requirement already satisfied: typing-extensions>=3.7.4.3 in /usr/local/lib/python3.11/site-packages (from huggingface_hub) (4.5.0)\n",
      "Requirement already satisfied: packaging>=20.9 in /usr/local/lib/python3.11/site-packages (from huggingface_hub) (23.0)\n",
      "Requirement already satisfied: charset-normalizer<4,>=2 in /usr/local/lib/python3.11/site-packages (from requests->huggingface_hub) (3.1.0)\n",
      "Requirement already satisfied: idna<4,>=2.5 in /usr/local/lib/python3.11/site-packages (from requests->huggingface_hub) (3.4)\n",
      "Requirement already satisfied: urllib3<3,>=1.21.1 in /usr/local/lib/python3.11/site-packages (from requests->huggingface_hub) (2.0.2)\n",
      "Requirement already satisfied: certifi>=2017.4.17 in /usr/local/lib/python3.11/site-packages (from requests->huggingface_hub) (2023.5.7)\n",
      "\u001b[33mWARNING: Skipping /usr/local/lib/python3.11/site-packages/numpy-1.24.2-py3.11.egg-info due to invalid metadata entry 'name'\u001b[0m\u001b[33m\n",
      "\u001b[0m\u001b[33mWARNING: Skipping /usr/local/lib/python3.11/site-packages/numpy-1.24.2-py3.11.egg-info due to invalid metadata entry 'name'\u001b[0m\u001b[33m\n",
      "\u001b[0m\u001b[33mWARNING: Skipping /usr/local/lib/python3.11/site-packages/numpy-1.24.2-py3.11.egg-info due to invalid metadata entry 'name'\u001b[0m\u001b[33m\n",
      "\u001b[0m\u001b[33mWARNING: Skipping /usr/local/lib/python3.11/site-packages/numpy-1.24.2-py3.11.egg-info due to invalid metadata entry 'name'\u001b[0m\u001b[33m\n",
      "\u001b[0mRequirement already satisfied: chromadb in /usr/local/lib/python3.11/site-packages (0.3.25)\n",
      "Requirement already satisfied: pandas>=1.3 in /usr/local/lib/python3.11/site-packages (from chromadb) (2.0.0)\n",
      "Requirement already satisfied: requests>=2.28 in /usr/local/lib/python3.11/site-packages (from chromadb) (2.30.0)\n",
      "Requirement already satisfied: pydantic>=1.9 in /usr/local/lib/python3.11/site-packages (from chromadb) (1.10.7)\n",
      "Requirement already satisfied: hnswlib>=0.7 in /usr/local/lib/python3.11/site-packages (from chromadb) (0.7.0)\n",
      "Requirement already satisfied: clickhouse-connect>=0.5.7 in /usr/local/lib/python3.11/site-packages (from chromadb) (0.5.25)\n",
      "Requirement already satisfied: duckdb>=0.7.1 in /usr/local/lib/python3.11/site-packages (from chromadb) (0.8.0)\n",
      "Requirement already satisfied: fastapi>=0.85.1 in /usr/local/lib/python3.11/site-packages (from chromadb) (0.95.2)\n",
      "Requirement already satisfied: uvicorn[standard]>=0.18.3 in /usr/local/lib/python3.11/site-packages (from chromadb) (0.22.0)\n",
      "Requirement already satisfied: numpy>=1.21.6 in /usr/local/lib/python3.11/site-packages (from chromadb) (1.24.2)\n",
      "Requirement already satisfied: posthog>=2.4.0 in /usr/local/lib/python3.11/site-packages (from chromadb) (3.0.1)\n",
      "Requirement already satisfied: onnxruntime>=1.14.1 in /usr/local/lib/python3.11/site-packages (from chromadb) (1.15.0)\n",
      "Requirement already satisfied: tokenizers>=0.13.2 in /usr/local/lib/python3.11/site-packages (from chromadb) (0.13.3)\n",
      "Requirement already satisfied: tqdm>=4.65.0 in /usr/local/lib/python3.11/site-packages (from chromadb) (4.65.0)\n",
      "Requirement already satisfied: typing-extensions>=4.5.0 in /usr/local/lib/python3.11/site-packages (from chromadb) (4.5.0)\n",
      "Requirement already satisfied: overrides>=7.3.1 in /usr/local/lib/python3.11/site-packages (from chromadb) (7.3.1)\n",
      "Requirement already satisfied: certifi in /usr/local/lib/python3.11/site-packages (from clickhouse-connect>=0.5.7->chromadb) (2023.5.7)\n",
      "Requirement already satisfied: urllib3>=1.26 in /usr/local/lib/python3.11/site-packages (from clickhouse-connect>=0.5.7->chromadb) (2.0.2)\n",
      "Requirement already satisfied: pytz in /usr/local/lib/python3.11/site-packages (from clickhouse-connect>=0.5.7->chromadb) (2023.3)\n",
      "Requirement already satisfied: zstandard in /usr/local/lib/python3.11/site-packages (from clickhouse-connect>=0.5.7->chromadb) (0.21.0)\n",
      "Requirement already satisfied: lz4 in /usr/local/lib/python3.11/site-packages (from clickhouse-connect>=0.5.7->chromadb) (4.3.2)\n",
      "Requirement already satisfied: starlette<0.28.0,>=0.27.0 in /usr/local/lib/python3.11/site-packages (from fastapi>=0.85.1->chromadb) (0.27.0)\n",
      "Requirement already satisfied: coloredlogs in /usr/local/lib/python3.11/site-packages (from onnxruntime>=1.14.1->chromadb) (15.0.1)\n",
      "Requirement already satisfied: flatbuffers in /usr/local/lib/python3.11/site-packages (from onnxruntime>=1.14.1->chromadb) (23.5.26)\n",
      "Requirement already satisfied: packaging in /usr/local/lib/python3.11/site-packages (from onnxruntime>=1.14.1->chromadb) (23.0)\n",
      "Requirement already satisfied: protobuf in /usr/local/lib/python3.11/site-packages (from onnxruntime>=1.14.1->chromadb) (3.20.3)\n",
      "Requirement already satisfied: sympy in /usr/local/lib/python3.11/site-packages (from onnxruntime>=1.14.1->chromadb) (1.12)\n",
      "Requirement already satisfied: python-dateutil>=2.8.2 in /usr/local/lib/python3.11/site-packages (from pandas>=1.3->chromadb) (2.8.2)\n",
      "Requirement already satisfied: tzdata>=2022.1 in /usr/local/lib/python3.11/site-packages (from pandas>=1.3->chromadb) (2023.3)\n",
      "Requirement already satisfied: six>=1.5 in /usr/local/lib/python3.11/site-packages (from posthog>=2.4.0->chromadb) (1.16.0)\n",
      "Requirement already satisfied: monotonic>=1.5 in /usr/local/lib/python3.11/site-packages (from posthog>=2.4.0->chromadb) (1.6)\n",
      "Requirement already satisfied: backoff>=1.10.0 in /usr/local/lib/python3.11/site-packages (from posthog>=2.4.0->chromadb) (2.2.1)\n",
      "Requirement already satisfied: charset-normalizer<4,>=2 in /usr/local/lib/python3.11/site-packages (from requests>=2.28->chromadb) (3.1.0)\n",
      "Requirement already satisfied: idna<4,>=2.5 in /usr/local/lib/python3.11/site-packages (from requests>=2.28->chromadb) (3.4)\n",
      "Requirement already satisfied: click>=7.0 in /usr/local/lib/python3.11/site-packages (from uvicorn[standard]>=0.18.3->chromadb) (8.1.3)\n",
      "Requirement already satisfied: h11>=0.8 in /usr/local/lib/python3.11/site-packages (from uvicorn[standard]>=0.18.3->chromadb) (0.14.0)\n",
      "Requirement already satisfied: httptools>=0.5.0 in /usr/local/lib/python3.11/site-packages (from uvicorn[standard]>=0.18.3->chromadb) (0.5.0)\n",
      "Requirement already satisfied: python-dotenv>=0.13 in /usr/local/lib/python3.11/site-packages (from uvicorn[standard]>=0.18.3->chromadb) (1.0.0)\n",
      "Requirement already satisfied: pyyaml>=5.1 in /usr/local/lib/python3.11/site-packages (from uvicorn[standard]>=0.18.3->chromadb) (6.0)\n",
      "Requirement already satisfied: uvloop!=0.15.0,!=0.15.1,>=0.14.0 in /usr/local/lib/python3.11/site-packages (from uvicorn[standard]>=0.18.3->chromadb) (0.17.0)\n",
      "Requirement already satisfied: watchfiles>=0.13 in /usr/local/lib/python3.11/site-packages (from uvicorn[standard]>=0.18.3->chromadb) (0.19.0)\n",
      "Requirement already satisfied: websockets>=10.4 in /usr/local/lib/python3.11/site-packages (from uvicorn[standard]>=0.18.3->chromadb) (11.0.3)\n"
     ]
    },
    {
     "name": "stdout",
     "output_type": "stream",
     "text": [
      "Requirement already satisfied: anyio<5,>=3.4.0 in /usr/local/lib/python3.11/site-packages (from starlette<0.28.0,>=0.27.0->fastapi>=0.85.1->chromadb) (3.6.2)\n",
      "Requirement already satisfied: humanfriendly>=9.1 in /usr/local/lib/python3.11/site-packages (from coloredlogs->onnxruntime>=1.14.1->chromadb) (10.0)\n",
      "Requirement already satisfied: mpmath>=0.19 in /usr/local/lib/python3.11/site-packages (from sympy->onnxruntime>=1.14.1->chromadb) (1.3.0)\n",
      "Requirement already satisfied: sniffio>=1.1 in /usr/local/lib/python3.11/site-packages (from anyio<5,>=3.4.0->starlette<0.28.0,>=0.27.0->fastapi>=0.85.1->chromadb) (1.3.0)\n",
      "\u001b[33mWARNING: Skipping /usr/local/lib/python3.11/site-packages/numpy-1.24.2-py3.11.egg-info due to invalid metadata entry 'name'\u001b[0m\u001b[33m\n",
      "\u001b[0m\u001b[33mWARNING: Skipping /usr/local/lib/python3.11/site-packages/numpy-1.24.2-py3.11.egg-info due to invalid metadata entry 'name'\u001b[0m\u001b[33m\n",
      "\u001b[0m\u001b[33mWARNING: Skipping /usr/local/lib/python3.11/site-packages/numpy-1.24.2-py3.11.egg-info due to invalid metadata entry 'name'\u001b[0m\u001b[33m\n",
      "\u001b[0m\u001b[33mWARNING: Skipping /usr/local/lib/python3.11/site-packages/numpy-1.24.2-py3.11.egg-info due to invalid metadata entry 'name'\u001b[0m\u001b[33m\n",
      "\u001b[0mRequirement already satisfied: tiktoken in /usr/local/lib/python3.11/site-packages (0.4.0)\n",
      "Requirement already satisfied: regex>=2022.1.18 in /usr/local/lib/python3.11/site-packages (from tiktoken) (2023.5.5)\n",
      "Requirement already satisfied: requests>=2.26.0 in /usr/local/lib/python3.11/site-packages (from tiktoken) (2.30.0)\n",
      "Requirement already satisfied: charset-normalizer<4,>=2 in /usr/local/lib/python3.11/site-packages (from requests>=2.26.0->tiktoken) (3.1.0)\n",
      "Requirement already satisfied: idna<4,>=2.5 in /usr/local/lib/python3.11/site-packages (from requests>=2.26.0->tiktoken) (3.4)\n",
      "Requirement already satisfied: urllib3<3,>=1.21.1 in /usr/local/lib/python3.11/site-packages (from requests>=2.26.0->tiktoken) (2.0.2)\n",
      "Requirement already satisfied: certifi>=2017.4.17 in /usr/local/lib/python3.11/site-packages (from requests>=2.26.0->tiktoken) (2023.5.7)\n",
      "\u001b[33mWARNING: Skipping /usr/local/lib/python3.11/site-packages/numpy-1.24.2-py3.11.egg-info due to invalid metadata entry 'name'\u001b[0m\u001b[33m\n",
      "\u001b[0m\u001b[33mWARNING: Skipping /usr/local/lib/python3.11/site-packages/numpy-1.24.2-py3.11.egg-info due to invalid metadata entry 'name'\u001b[0m\u001b[33m\n",
      "\u001b[0m"
     ]
    }
   ],
   "source": [
    "!pip install langchain\n",
    "!pip install streamlit\n",
    "!pip install openai\n",
    "!pip install aleph_alpha_client\n",
    "!pip install replicate\n",
    "!pip install huggingface_hub\n",
    "!pip install chromadb\n",
    "!pip install tiktoken"
   ]
  },
  {
   "cell_type": "code",
   "execution_count": 6,
   "id": "2b2070d0",
   "metadata": {},
   "outputs": [],
   "source": [
    "import os\n",
    "# Setup API keys\n",
    "os.environ[\"OPENAI_API_KEY\"] = \"x\"\n"
   ]
  },
  {
   "cell_type": "markdown",
   "id": "cbb6d141",
   "metadata": {},
   "source": [
    "# Quick Intro to LangChain\n",
    "\n",
    "What are\n",
    "- Prompts\n",
    "- Chains\n",
    "- Indexes\n",
    "\n",
    "Other important ideas I won't cover now:\n",
    "- Memory\n",
    "- Agents"
   ]
  },
  {
   "cell_type": "code",
   "execution_count": 8,
   "id": "af80a503",
   "metadata": {},
   "outputs": [
    {
     "name": "stdout",
     "output_type": "stream",
     "text": [
      "\n",
      "Rainbow Kicks.\n"
     ]
    }
   ],
   "source": [
    "from langchain import PromptTemplate\n",
    "from langchain.llms import OpenAI\n",
    "from langchain.chains import LLMChain\n",
    "\n",
    "template = \"\"\"\n",
    "I want you to act as a naming consultant for new companies.\n",
    "What is a good name for a company that makes {product}?\n",
    "\"\"\"\n",
    "\n",
    "prompt = PromptTemplate(\n",
    "    input_variables=[\"product\"],\n",
    "    template=template,\n",
    ")\n",
    "\n",
    "llm = OpenAI(temperature=0)\n",
    "\n",
    "chain = LLMChain(llm=llm, prompt=prompt)\n",
    "\n",
    "result = chain.run(\"colorful sneakers\")\n",
    "\n",
    "print(result)"
   ]
  },
  {
   "cell_type": "code",
   "execution_count": 40,
   "id": "5d24e29f-2f0f-4b40-8a52-17181f3a5352",
   "metadata": {},
   "outputs": [
    {
     "data": {
      "text/plain": [
       "'\\n\\nVistaTech Solutions.'"
      ]
     },
     "execution_count": 40,
     "metadata": {},
     "output_type": "execute_result"
    }
   ],
   "source": [
    "llm(\"What would be a good company name?\")"
   ]
  },
  {
   "cell_type": "code",
   "execution_count": 47,
   "id": "527104eb",
   "metadata": {},
   "outputs": [
    {
     "name": "stdout",
     "output_type": "stream",
     "text": [
      "page_content='How to Handle a SegFault:\\n\\nWhen the service encounters a segmentation fault, the proper solution is to restart the service. \\nThis can be done by providing the following command to the VM: \\n\\n```\\nsudo service restart\\n```\\n' metadata={'error': 'segmentation fault'}\n",
      "\n",
      "page_content='How to Handle a Timeout:\\n\\nWhen the service hits timeouts, we need to investigate whether or not there is enough space left on the device.\\nTo do this, we need to run the following command:\\n\\n```\\nsudo df\\n```\\n' metadata={'error': 'timeout'}\n",
      "\n",
      "page_content='How to Handle a Disk Error:\\n\\nDisk errors mean the entire VM has reached a bad state. We need to reboot the entire VM by running this command: \\n\\n```\\nsudo reboot\\n```\\n' metadata={'error': 'disk error'}\n",
      "\n"
     ]
    }
   ],
   "source": [
    "from demo.chains.oncall_agent.runbook_documents import DOCS\n",
    "\n",
    "for doc in DOCS:\n",
    "    print(doc)\n",
    "    print(\"\")"
   ]
  },
  {
   "cell_type": "code",
   "execution_count": 3,
   "id": "fe72016e-b630-4114-b5e0-31ac9ff97407",
   "metadata": {},
   "outputs": [
    {
     "name": "stdout",
     "output_type": "stream",
     "text": [
      "page_content=\"\\nLet it grow.\\nMore than 70 towns across the U.S. have signed on to relax maintenance rules for property owners during the month of May as part of a movement meant to feed local bee populations for the upcoming growing season.\\nCalled “No Mow May,” the initiative started in the United Kingdom and was later adopted by Appleton, Wisconsin, which became the first U.S. town to implement it in 2020. This year, dozens of communities across the U.S. have adopted No Mow May to encourage citizens to let bee-friendly plants grow in their yards.\\n“Pesky weeds like clovers and dandelions are like cheeseburgers for bees,” said Israel Del Toro, an assistant biology professor at Lawrence University and city council member in Appleton.\\nAnd Appleton has seen the bee benefits, Del Toro said. Since the project began, No Mow May lawns in Appleton showed a fivefold increase in bee abundance and a threefold increase in bee diversity compared to nearby parkland that was mowed regularly.\\nBees are essential pollinators. Every year, honeybees pollinate $15 billion worth of crops in the U.S. and help farmers produce about one-third of all food eaten by Americans.\\nBut global bee populations are in danger — factors such as habitat loss, overuse of chemical pesticides and herbicides, disease and climate change can negatively impact bees, Del Toro said. Globally, 35% of invertebrate pollinators, mainly bees and butterflies, face extinction.\\n“If we can do just a little bit to help bees by not mowing our lawns and giving them extra food, that can go a long way,” Del Toro said.\\nWithout regular lawn mowing, homeowners also reduce the risk of disturbing soil for bees that nest in the ground, such as mining or leafcutter bees, said Relena Ribbons, an assistant geosciences professor at Lawrence University.\\nLess mowing has the added benefit of reducing local air pollution. Since most lawn mowers are gas-powered, they can emit significant levels of air pollutants such as nitrous oxides, carbon monoxide, particulate matter and carbon dioxide.\\nAngela Vanden Elzen, a librarian and lifelong resident of Appleton, said she rarely saw bees around town growing up. Since No Mow May began, she has seen more bees than ever buzzing in Appleton’s lawns and gardens.\\n“No Mow May provides a way for us to help out our ecosystem with little effort,” Vanden Elzen said. “I love sharing the project with my kids. It started with honeybees and now they’ve grown more tolerant of all creatures — even spiders.”\\nVanden Elzen’s 7-year-old daughter, Elora, said she loves participating in No Mow May with her community.\\n“I get excited about 'No Mow May' because we get to feed the bees,” Elora said. “And I like seeing all the bright colors in my front yard and seeing the bees buzzing on the flowers.”\\nIn other towns, residents have expressed concerns about leaving their lawns unmowed. Jo Ann Litwin Clinton, the mayor of Orchard Park, New York, raised the issue of attracting ticks and rodents with unkempt lawns. Orchard Park citizens are currently debating whether mowing 2-by-2-foot sections is sufficient to encourage bee populations.\\nAt the University of Minnesota, a group of researchers studying bees called the Bee Squad recommends practicing “Slow Mow Summer,” a method in which homeowners infrequently mow their lawns during summer, keeping grass moderately high. Elaine Evans, an extension professor at the University of Minnesota and researcher with the Bee Squad, said this strategy can help provide food for bees throughout the season — not just in May.\\nMatthew Normansell, an Appleton resident who runs Eden Wild Food, a foraging and wild food education business, said that No Mow May is an important part of the solution.\\n“It’s a first step in increasing awareness that our land and property is connected to the environment,” he said. “I don’t think it’s the answer, but it’s the beginning of an important conversation.”\\n\\n\" metadata={'topic': 'bees'}\n",
      "\n",
      "page_content='\\nThe rapid development of unexpected drought, called flash drought, can severely impact agricultural and ecological systems with ripple effects that extend even further. Researchers at the University of Oklahoma are assessing how our warming climate will affect the frequency of flash droughts and the risk to croplands globally.\\n\\nJordan Christian, a postdoctoral researcher, is the lead author of the study, \"Global projections of flash drought show increased risk in a warming climate,\" published today in Nature Communications Earth and Environment.\\n\\n\"In this study, projected changes in flash drought frequency and cropland risk from flash drought are quantified using global climate model simulations,\" Christian said. \"We find that flash drought occurrence is expected to increase globally among all scenarios, with the sharpest increases seen in scenarios with higher radiative forcing and greater fossil fuel usage.\"\\n\\nRadiative forcing describes the imbalance of radiation where more radiation enters Earth\\'s atmosphere than leaves it. Like burning fossil fuels, these activities are among the most significant contributors to climate warming. The changing climate is expected to increase severe weather events from storms, flash flooding, flash droughts and more.\\n\\n\"Flash drought risk over cropland is expected to increase globally, with the largest increases projected across North America and Europe,\" Christian said.\\n\\n\"CMIP6 models projected a 1.5 times increase in the annual risk of flash droughts over croplands across North America by 2100, from the 2015 baseline of a 32% yearly risk in 2015 to 49% in 2100, while Europe is expected to have the largest increase in the most extreme emissions scenario (32% to 53%), a 1.7 times increase in annual risk,\" he said.\\n\\nJeffrey Basara, an associate professor in the School of Meteorology in the College of Atmospheric and Geographic Sciences and the School of Civil Engineering and Environmental Sciences in the Gallogly College of Engineering, is Christian\\'s faculty advisor and study co-author. Basara is the executive associate director of the hydrology and water security program and leads OU\\'s Climate, Hydrology, Ecosystems and Weather research group. The researchers have been investigating ways to improve flash drought identification and prediction since 2017, with multiple papers published in the Journal of Hydrometeorology, Environmental Research Letters and Nature Communications.\\n\\n\"This study continues to emphasize that agricultural producers, both domestic and abroad, will face increasing risks associated with water availability due to the rapid development of drought. As a result, socioeconomic pressures associated with food production, including higher prices and social unrest, will also increase when crop losses occur due to flash drought,\" Basara said.\\n' metadata={'topic': 'drought'}\n",
      "\n",
      "page_content='\\nThe future of Samoa\\'s electricity system could go green, a University of Otago study has shown.\\n\\nPacific Island nations are particularly susceptible to climate change and face high costs and energy security issues from imported fossil fuels.\\n\\nFor these reasons many Pacific Island nations have developed ambitious 100 per cent renewable energy targets. However, they have not been subject to rigorous peer-reviewed studies to help develop these targets and pathways for achieving them in the same way as more developed countries.\\n\\nTo meet this need, Otago Energy Science and Technology Masters student Tupuivao Vaiaso mapped future scenarios for Samoa\\'s electricity system by carefully balancing renewable supply and electricity demand.\\n\\nThe study, published in Renewable and Sustainable Energy Reviews, shows high proportions (above 90 per cent) of renewable generation coupled with battery or pumped hydro energy storage is technically feasible, and economically viable -- it would cost far less than current electricity production.\\n\\nA special combination of characteristics makes this possible: great solar resources with very little seasonal variation; little variation in demand due to constant seasonal conditions; and high electricity prices from the current use of diesel.\\n\\nHowever, the results also show there is a significant trade-off between percentage of renewable supply and affordability. To counter this, Mr Vaiaso says targets should be set just below 100 per cent for it to be economically attractive and/or biomass options (like the recent biomass gasification plant) could potentially be considered for the last few percent.\\n\\nCo-author Associate Professor Michael Jack, Director of the Energy Management programme in the Department of Physics, says the study shows an affordable pathway to achieve renewable energy targets which is important as cutting emissions must be achieved in a way that does not increase energy hardship.\\n\\n\"These results have important implications for energy policy directions for Samoa and are directly applicable to many other countries in the Pacific,\" he says.\\n\\nHe believes the study also suggests Pacific Island nations are an important option for the growing trend in international sustainable finance.\\n\\n\"The high price of electricity means that renewable options are much more economically attractive than many other countries. These are essentially low hanging fruit that provide multiple benefits and, I imagine, would be attractive to these funding bodies.\"\\n\\n' metadata={'topic': 'renewables'}\n",
      "\n"
     ]
    }
   ],
   "source": [
    "from project.chains.environment_agent.runbook_documents import DOCS\n",
    "for doc in DOCS:\n",
    "    print(doc)\n",
    "    print(\"\")"
   ]
  },
  {
   "cell_type": "code",
   "execution_count": 9,
   "id": "c5334a10",
   "metadata": {},
   "outputs": [
    {
     "name": "stdout",
     "output_type": "stream",
     "text": [
      "[{'text': ' Summarize the article about bees and their impact on the environment.\\n\\nThe article discusses the importance of bees in the U.S., as they pollinate $15 billion worth of crops and help farmers produce about one-third of all food eaten by Americans. However, global bee populations are in danger due to factors such as habitat loss, overuse of chemical pesticides and herbicides, disease and climate change. To help bees, homeowners can reduce the risk of disturbing soil for bees that nest in the ground by not mowing their lawns, which also has the added benefit of reducing local air pollution.'}]\n"
     ]
    }
   ],
   "source": [
    "from project.chains.environment_agent.oncall_agent_chain import OncallChain\n",
    "from project.chains.environment_agent.runbook_documents import create_index\n",
    "\n",
    "index = create_index()\n",
    "topic = \"bees\"\n",
    "\n",
    "docs = index.similarity_search(topic, k=1)\n",
    "inputs = [{\"article\": doc.page_content, \"topic\": topic} for doc in docs]\n",
    "chain = OncallChain.from_llm(llm)\n",
    "result = chain.apply(inputs)\n",
    "\n",
    "print(result)"
   ]
  },
  {
   "cell_type": "markdown",
   "id": "b9caf4af",
   "metadata": {},
   "source": [
    "# Data Generation and Auto-Evaluation\n",
    "\n"
   ]
  },
  {
   "cell_type": "markdown",
   "id": "6ce2a531",
   "metadata": {},
   "source": [
    "Two important insights:\n",
    "\n",
    "* Chains can be prompted to produce synthetic data\n",
    "* Chains can evaluate output from other LLMs\n",
    "\n",
    "See [Auto-evaluator](https://autoevaluator.langchain.com/) for an example of evaluating question answering on documents."
   ]
  },
  {
   "cell_type": "markdown",
   "id": "e89d1e90",
   "metadata": {},
   "source": [
    "# Example 1: Sales Email Generation"
   ]
  },
  {
   "cell_type": "code",
   "execution_count": 21,
   "id": "f70de9bf",
   "metadata": {},
   "outputs": [],
   "source": [
    "from demo.synthesizers.json_synthesizer.synthesize_data import synthesize\n",
    "\n",
    "text_input = \"\"\"\n",
    "The goal of this language model task is to generate cold sales emails.\n",
    "The input is a JSON containing a few details about a customer.\n",
    "\n",
    "An example of the input would be: \n",
    "```\n",
    "{{\n",
    "    \"Name\": \"Artur Moczulski\",\n",
    "    \"Title\": \"CTO\",\n",
    "    \"Company\": \"Scout AI\",\n",
    "}}\n",
    "```\n",
    "Your prompts should follow this JSON format.\n",
    "Everything between the ``` must be valid json.\n",
    "Generate one such JSON input.\n",
    "\"\"\"\n",
    "\n",
    "synthesized_data = synthesize(text_input, 1)"
   ]
  },
  {
   "cell_type": "code",
   "execution_count": 22,
   "id": "22125076",
   "metadata": {},
   "outputs": [
    {
     "name": "stdout",
     "output_type": "stream",
     "text": [
      "[{'Name': 'John Smith', 'Title': 'CEO', 'Company': 'ABC Inc.'}]\n"
     ]
    }
   ],
   "source": [
    "print(synthesized_data[0]['inputs'])"
   ]
  },
  {
   "cell_type": "code",
   "execution_count": 23,
   "id": "31ee2ba7",
   "metadata": {
    "scrolled": true
   },
   "outputs": [
    {
     "name": "stderr",
     "output_type": "stream",
     "text": [
      "2023-05-27 13:34:18.813 No runtime found, using MemoryCacheStorageManager\n",
      "2023-05-27 13:34:18.818 No runtime found, using MemoryCacheStorageManager\n"
     ]
    }
   ],
   "source": [
    "from demo.chains.sdr_agent.generate_email import generate_email\n",
    "\n",
    "email = generate_email(synthesized_data)"
   ]
  },
  {
   "cell_type": "code",
   "execution_count": 24,
   "id": "feb0899e",
   "metadata": {},
   "outputs": [
    {
     "name": "stdout",
     "output_type": "stream",
     "text": [
      "Subject: AI-powered LLM evaluation for ABC Inc.\n",
      "\n",
      "Dear John,\n",
      "\n",
      "I hope this email finds you well. My name is [Your Name] and I am a Sales Development Representative at [Your Company], a startup that specializes in helping software development teams evaluate LLMs for use in their products.\n",
      "\n",
      "I came across ABC Inc. and was impressed by your company's innovative approach to [mention something specific about their business]. As a CEO, I understand that you are always looking for ways to improve your products and stay ahead of the competition.\n",
      "\n",
      "That's where our AI-powered LLM evaluation comes in. Our technology can help your development team evaluate LLMs quickly and accurately, saving you time and resources. Our platform is user-friendly and can be easily integrated into your existing workflow.\n",
      "\n",
      "I would love to schedule a brief call with you to discuss how our technology can benefit ABC Inc. and answer any questions you may have. Please let me know if this is something you would be interested in.\n",
      "\n",
      "Thank you for your time and consideration. I look forward to hearing from you soon.\n",
      "\n",
      "Best regards,\n",
      "\n",
      "[Your Name]\n"
     ]
    }
   ],
   "source": [
    "print(email[0])"
   ]
  },
  {
   "cell_type": "code",
   "execution_count": 25,
   "id": "3b20c174",
   "metadata": {},
   "outputs": [
    {
     "name": "stderr",
     "output_type": "stream",
     "text": [
      "2023-05-27 13:34:36.206 No runtime found, using MemoryCacheStorageManager\n",
      "2023-05-27 13:34:36.209 No runtime found, using MemoryCacheStorageManager\n"
     ]
    }
   ],
   "source": [
    "from demo.evaluators.cold_email_binary_evaluator.evaluate_email import evaluate\n",
    "\n",
    "result = evaluate(synthesized_data[0]['inputs'], email)"
   ]
  },
  {
   "cell_type": "code",
   "execution_count": 26,
   "id": "042908d2",
   "metadata": {},
   "outputs": [
    {
     "name": "stdout",
     "output_type": "stream",
     "text": [
      "[{'text': 'SATISFACTORY. The SDR addressed the customer by name and title, and mentioned something specific about their business. The email is clear and convincing, highlighting the benefits of the technology and offering to schedule a call to discuss further.'}]\n"
     ]
    }
   ],
   "source": [
    "print(result)"
   ]
  },
  {
   "cell_type": "code",
   "execution_count": 27,
   "id": "c2376bce",
   "metadata": {},
   "outputs": [
    {
     "ename": "ValidationError",
     "evalue": "1 validation error for Replicate\n__root__\n  Did not find REPLICATE_API_TOKEN, please add an environment variable `REPLICATE_API_TOKEN` which contains it, or pass  `REPLICATE_API_TOKEN` as a named parameter. (type=value_error)",
     "output_type": "error",
     "traceback": [
      "\u001b[0;31m---------------------------------------------------------------------------\u001b[0m",
      "\u001b[0;31mValidationError\u001b[0m                           Traceback (most recent call last)",
      "Cell \u001b[0;32mIn[27], line 4\u001b[0m\n\u001b[1;32m      1\u001b[0m \u001b[38;5;28;01mfrom\u001b[39;00m \u001b[38;5;21;01mlangchain\u001b[39;00m\u001b[38;5;21;01m.\u001b[39;00m\u001b[38;5;21;01mllms\u001b[39;00m \u001b[38;5;28;01mimport\u001b[39;00m Replicate\n\u001b[1;32m      2\u001b[0m DOLLY_MODEL \u001b[38;5;241m=\u001b[39m \u001b[38;5;124m\"\u001b[39m\u001b[38;5;124mreplicate/dolly-v2-12b:ef0e1aefc61f8e096ebe4db6b2bacc297daf2ef6899f0f7e001ec445893500e5\u001b[39m\u001b[38;5;124m\"\u001b[39m\n\u001b[0;32m----> 4\u001b[0m email2 \u001b[38;5;241m=\u001b[39m generate_email(synthesized_data, \u001b[43mReplicate\u001b[49m\u001b[43m(\u001b[49m\u001b[43mmodel\u001b[49m\u001b[38;5;241;43m=\u001b[39;49m\u001b[43mDOLLY_MODEL\u001b[49m\u001b[43m)\u001b[49m)\n",
      "File \u001b[0;32m~/.pyenv/versions/3.10.0/lib/python3.10/site-packages/pydantic/main.py:341\u001b[0m, in \u001b[0;36mpydantic.main.BaseModel.__init__\u001b[0;34m()\u001b[0m\n",
      "\u001b[0;31mValidationError\u001b[0m: 1 validation error for Replicate\n__root__\n  Did not find REPLICATE_API_TOKEN, please add an environment variable `REPLICATE_API_TOKEN` which contains it, or pass  `REPLICATE_API_TOKEN` as a named parameter. (type=value_error)"
     ]
    }
   ],
   "source": [
    "from langchain.llms import Replicate\n",
    "DOLLY_MODEL = \"replicate/dolly-v2-12b:ef0e1aefc61f8e096ebe4db6b2bacc297daf2ef6899f0f7e001ec445893500e5\"\n",
    "\n",
    "email2 = generate_email(synthesized_data, Replicate(model=DOLLY_MODEL))"
   ]
  },
  {
   "cell_type": "code",
   "execution_count": null,
   "id": "e2a19548",
   "metadata": {},
   "outputs": [],
   "source": [
    "print(email2[0])"
   ]
  },
  {
   "cell_type": "code",
   "execution_count": null,
   "id": "fa166148",
   "metadata": {},
   "outputs": [],
   "source": [
    "result = evaluate(synthesized_data[0]['inputs'], email2)"
   ]
  },
  {
   "cell_type": "code",
   "execution_count": 29,
   "id": "7b28628b",
   "metadata": {},
   "outputs": [
    {
     "name": "stdout",
     "output_type": "stream",
     "text": [
      "SATISFACTORY. The SDR addressed the customer by name and title, and mentioned something specific about their business. The email is clear and convincing, highlighting the benefits of the technology and offering to schedule a call to discuss further.\n"
     ]
    }
   ],
   "source": [
    "print(result[0]['text'])"
   ]
  },
  {
   "cell_type": "code",
   "execution_count": 30,
   "id": "24329359",
   "metadata": {},
   "outputs": [
    {
     "name": "stderr",
     "output_type": "stream",
     "text": [
      "2023-05-27 13:34:53.402 No runtime found, using MemoryCacheStorageManager\n"
     ]
    },
    {
     "ename": "NameError",
     "evalue": "name 'email2' is not defined",
     "output_type": "error",
     "traceback": [
      "\u001b[0;31m---------------------------------------------------------------------------\u001b[0m",
      "\u001b[0;31mNameError\u001b[0m                                 Traceback (most recent call last)",
      "Cell \u001b[0;32mIn[30], line 3\u001b[0m\n\u001b[1;32m      1\u001b[0m \u001b[38;5;28;01mfrom\u001b[39;00m \u001b[38;5;21;01mdemo\u001b[39;00m\u001b[38;5;21;01m.\u001b[39;00m\u001b[38;5;21;01mevaluators\u001b[39;00m\u001b[38;5;21;01m.\u001b[39;00m\u001b[38;5;21;01mcold_email_comparator_evaluator\u001b[39;00m\u001b[38;5;21;01m.\u001b[39;00m\u001b[38;5;21;01mevaluate_email\u001b[39;00m \u001b[38;5;28;01mimport\u001b[39;00m evaluate\n\u001b[0;32m----> 3\u001b[0m result \u001b[38;5;241m=\u001b[39m evaluate(synthesized_data[\u001b[38;5;241m0\u001b[39m][\u001b[38;5;124m'\u001b[39m\u001b[38;5;124minputs\u001b[39m\u001b[38;5;124m'\u001b[39m], email, \u001b[43memail2\u001b[49m)\n",
      "\u001b[0;31mNameError\u001b[0m: name 'email2' is not defined"
     ]
    }
   ],
   "source": [
    "from demo.evaluators.cold_email_comparator_evaluator.evaluate_email import evaluate\n",
    "\n",
    "result = evaluate(synthesized_data[0]['inputs'], email, email2)"
   ]
  },
  {
   "cell_type": "code",
   "execution_count": 31,
   "id": "00afe7f9",
   "metadata": {},
   "outputs": [
    {
     "name": "stdout",
     "output_type": "stream",
     "text": [
      "SATISFACTORY. The SDR addressed the customer by name and title, and mentioned something specific about their business. The email is clear and convincing, highlighting the benefits of the technology and offering to schedule a call to discuss further.\n"
     ]
    }
   ],
   "source": [
    "print(result[0]['text'])"
   ]
  },
  {
   "cell_type": "markdown",
   "id": "f4ae7f7c",
   "metadata": {},
   "source": [
    "# Example 2: Oncall Bot"
   ]
  },
  {
   "cell_type": "code",
   "execution_count": 32,
   "id": "ad3905bb",
   "metadata": {},
   "outputs": [],
   "source": [
    "from demo.chains.oncall_agent.runbook_documents import create_index\n",
    "from demo.chains.oncall_agent.generate_command import generate_command\n",
    "\n",
    "error = \"Error: segfault\"\n",
    "command = generate_command(error, index)"
   ]
  },
  {
   "cell_type": "code",
   "execution_count": 33,
   "id": "a1b64e17",
   "metadata": {},
   "outputs": [
    {
     "name": "stdout",
     "output_type": "stream",
     "text": [
      "[{'text': ' sudo service restart'}]\n"
     ]
    }
   ],
   "source": [
    "print(command)"
   ]
  },
  {
   "cell_type": "code",
   "execution_count": 34,
   "id": "6461bdf7",
   "metadata": {},
   "outputs": [
    {
     "name": "stdout",
     "output_type": "stream",
     "text": [
      "[{'text': ' SUCCESS\\n\\nThe Site Reliability Engineer correctly followed the runbook and provided the correct command to restart the service. Therefore, they should be given a grade of SUCCESS.'}]\n"
     ]
    }
   ],
   "source": [
    "from demo.evaluators.oncall_action_evaluator.evaluate_action import evalaute\n",
    "\n",
    "result = evalaute(error, command, index)"
   ]
  },
  {
   "cell_type": "markdown",
   "id": "36006545",
   "metadata": {},
   "source": [
    "# Using HuggingFace"
   ]
  },
  {
   "cell_type": "code",
   "execution_count": 36,
   "id": "ec46c18e",
   "metadata": {},
   "outputs": [],
   "source": []
  },
  {
   "cell_type": "code",
   "execution_count": null,
   "id": "ef264114-3b08-4d64-a2b3-53d44c3cdc74",
   "metadata": {},
   "outputs": [],
   "source": []
  }
 ],
 "metadata": {
  "kernelspec": {
   "display_name": "Python 3 (ipykernel)",
   "language": "python",
   "name": "python3"
  },
  "language_info": {
   "codemirror_mode": {
    "name": "ipython",
    "version": 3
   },
   "file_extension": ".py",
   "mimetype": "text/x-python",
   "name": "python",
   "nbconvert_exporter": "python",
   "pygments_lexer": "ipython3",
   "version": "3.10.0"
  }
 },
 "nbformat": 4,
 "nbformat_minor": 5
}
