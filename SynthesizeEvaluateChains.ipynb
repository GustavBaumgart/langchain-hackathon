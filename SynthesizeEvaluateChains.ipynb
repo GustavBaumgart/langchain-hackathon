{
 "cells": [
  {
   "cell_type": "code",
   "execution_count": 1,
   "id": "b8375b55",
   "metadata": {},
   "outputs": [
    {
     "name": "stdout",
     "output_type": "stream",
     "text": [
      "\u001b[33mWARNING: Skipping /usr/local/lib/python3.11/site-packages/numpy-1.24.2-py3.11.egg-info due to invalid metadata entry 'name'\u001b[0m\u001b[33m\n",
      "\u001b[0m\u001b[33mWARNING: Skipping /usr/local/lib/python3.11/site-packages/numpy-1.24.2-py3.11.egg-info due to invalid metadata entry 'name'\u001b[0m\u001b[33m\n",
      "\u001b[0mRequirement already satisfied: langchain in /usr/local/lib/python3.11/site-packages (0.0.173)\n",
      "Requirement already satisfied: PyYAML>=5.4.1 in /usr/local/lib/python3.11/site-packages (from langchain) (6.0)\n",
      "Requirement already satisfied: SQLAlchemy<3,>=1.4 in /usr/local/lib/python3.11/site-packages (from langchain) (2.0.9)\n",
      "Requirement already satisfied: aiohttp<4.0.0,>=3.8.3 in /usr/local/lib/python3.11/site-packages (from langchain) (3.8.4)\n",
      "Requirement already satisfied: dataclasses-json<0.6.0,>=0.5.7 in /usr/local/lib/python3.11/site-packages (from langchain) (0.5.7)\n",
      "Requirement already satisfied: numexpr<3.0.0,>=2.8.4 in /usr/local/lib/python3.11/site-packages (from langchain) (2.8.4)\n",
      "Requirement already satisfied: numpy<2,>=1 in /usr/local/lib/python3.11/site-packages (from langchain) (1.24.2)\n",
      "Requirement already satisfied: openapi-schema-pydantic<2.0,>=1.2 in /usr/local/lib/python3.11/site-packages (from langchain) (1.2.4)\n",
      "Requirement already satisfied: pydantic<2,>=1 in /usr/local/lib/python3.11/site-packages (from langchain) (1.10.7)\n",
      "Requirement already satisfied: requests<3,>=2 in /usr/local/lib/python3.11/site-packages (from langchain) (2.30.0)\n",
      "Requirement already satisfied: tenacity<9.0.0,>=8.1.0 in /usr/local/lib/python3.11/site-packages (from langchain) (8.2.2)\n",
      "Requirement already satisfied: attrs>=17.3.0 in /usr/local/lib/python3.11/site-packages (from aiohttp<4.0.0,>=3.8.3->langchain) (22.2.0)\n",
      "Requirement already satisfied: charset-normalizer<4.0,>=2.0 in /usr/local/lib/python3.11/site-packages (from aiohttp<4.0.0,>=3.8.3->langchain) (3.1.0)\n",
      "Requirement already satisfied: multidict<7.0,>=4.5 in /usr/local/lib/python3.11/site-packages (from aiohttp<4.0.0,>=3.8.3->langchain) (6.0.4)\n",
      "Requirement already satisfied: async-timeout<5.0,>=4.0.0a3 in /usr/local/lib/python3.11/site-packages (from aiohttp<4.0.0,>=3.8.3->langchain) (4.0.2)\n",
      "Requirement already satisfied: yarl<2.0,>=1.0 in /usr/local/lib/python3.11/site-packages (from aiohttp<4.0.0,>=3.8.3->langchain) (1.9.2)\n",
      "Requirement already satisfied: frozenlist>=1.1.1 in /usr/local/lib/python3.11/site-packages (from aiohttp<4.0.0,>=3.8.3->langchain) (1.3.3)\n",
      "Requirement already satisfied: aiosignal>=1.1.2 in /usr/local/lib/python3.11/site-packages (from aiohttp<4.0.0,>=3.8.3->langchain) (1.3.1)\n",
      "Requirement already satisfied: marshmallow<4.0.0,>=3.3.0 in /usr/local/lib/python3.11/site-packages (from dataclasses-json<0.6.0,>=0.5.7->langchain) (3.19.0)\n",
      "Requirement already satisfied: marshmallow-enum<2.0.0,>=1.5.1 in /usr/local/lib/python3.11/site-packages (from dataclasses-json<0.6.0,>=0.5.7->langchain) (1.5.1)\n",
      "Requirement already satisfied: typing-inspect>=0.4.0 in /usr/local/lib/python3.11/site-packages (from dataclasses-json<0.6.0,>=0.5.7->langchain) (0.8.0)\n",
      "Requirement already satisfied: typing-extensions>=4.2.0 in /usr/local/lib/python3.11/site-packages (from pydantic<2,>=1->langchain) (4.5.0)\n",
      "Requirement already satisfied: idna<4,>=2.5 in /usr/local/lib/python3.11/site-packages (from requests<3,>=2->langchain) (3.4)\n",
      "Requirement already satisfied: urllib3<3,>=1.21.1 in /usr/local/lib/python3.11/site-packages (from requests<3,>=2->langchain) (2.0.2)\n",
      "Requirement already satisfied: certifi>=2017.4.17 in /usr/local/lib/python3.11/site-packages (from requests<3,>=2->langchain) (2023.5.7)\n",
      "Requirement already satisfied: greenlet!=0.4.17 in /usr/local/lib/python3.11/site-packages (from SQLAlchemy<3,>=1.4->langchain) (2.0.2)\n",
      "Requirement already satisfied: packaging>=17.0 in /usr/local/lib/python3.11/site-packages (from marshmallow<4.0.0,>=3.3.0->dataclasses-json<0.6.0,>=0.5.7->langchain) (23.0)\n",
      "Requirement already satisfied: mypy-extensions>=0.3.0 in /usr/local/lib/python3.11/site-packages (from typing-inspect>=0.4.0->dataclasses-json<0.6.0,>=0.5.7->langchain) (1.0.0)\n",
      "\u001b[33mWARNING: Skipping /usr/local/lib/python3.11/site-packages/numpy-1.24.2-py3.11.egg-info due to invalid metadata entry 'name'\u001b[0m\u001b[33m\n",
      "\u001b[0m\u001b[33mWARNING: Skipping /usr/local/lib/python3.11/site-packages/numpy-1.24.2-py3.11.egg-info due to invalid metadata entry 'name'\u001b[0m\u001b[33m\n",
      "\u001b[0m\u001b[33mWARNING: Skipping /usr/local/lib/python3.11/site-packages/numpy-1.24.2-py3.11.egg-info due to invalid metadata entry 'name'\u001b[0m\u001b[33m\n",
      "\u001b[0m\u001b[33mWARNING: Skipping /usr/local/lib/python3.11/site-packages/numpy-1.24.2-py3.11.egg-info due to invalid metadata entry 'name'\u001b[0m\u001b[33m\n",
      "\u001b[0mRequirement already satisfied: streamlit in /usr/local/lib/python3.11/site-packages (1.22.0)\n",
      "Requirement already satisfied: altair<5,>=3.2.0 in /usr/local/lib/python3.11/site-packages (from streamlit) (4.2.2)\n",
      "Requirement already satisfied: blinker>=1.0.0 in /usr/local/lib/python3.11/site-packages (from streamlit) (1.6.2)\n",
      "Requirement already satisfied: cachetools>=4.0 in /usr/local/lib/python3.11/site-packages (from streamlit) (5.3.0)\n",
      "Requirement already satisfied: click>=7.0 in /usr/local/lib/python3.11/site-packages (from streamlit) (8.1.3)\n",
      "Requirement already satisfied: importlib-metadata>=1.4 in /usr/local/lib/python3.11/site-packages (from streamlit) (6.6.0)\n",
      "Requirement already satisfied: numpy in /usr/local/lib/python3.11/site-packages (from streamlit) (1.24.2)\n",
      "Requirement already satisfied: packaging>=14.1 in /usr/local/lib/python3.11/site-packages (from streamlit) (23.0)\n",
      "Requirement already satisfied: pandas<3,>=0.25 in /usr/local/lib/python3.11/site-packages (from streamlit) (2.0.0)\n",
      "Requirement already satisfied: pillow>=6.2.0 in /usr/local/lib/python3.11/site-packages (from streamlit) (9.5.0)\n",
      "Requirement already satisfied: protobuf<4,>=3.12 in /usr/local/lib/python3.11/site-packages (from streamlit) (3.20.3)\n",
      "Requirement already satisfied: pyarrow>=4.0 in /usr/local/lib/python3.11/site-packages (from streamlit) (12.0.0)\n",
      "Requirement already satisfied: pympler>=0.9 in /usr/local/lib/python3.11/site-packages (from streamlit) (1.0.1)\n",
      "Requirement already satisfied: python-dateutil in /usr/local/lib/python3.11/site-packages (from streamlit) (2.8.2)\n",
      "Requirement already satisfied: requests>=2.4 in /usr/local/lib/python3.11/site-packages (from streamlit) (2.30.0)\n",
      "Requirement already satisfied: rich>=10.11.0 in /usr/local/lib/python3.11/site-packages (from streamlit) (13.3.5)\n",
      "Requirement already satisfied: tenacity<9,>=8.0.0 in /usr/local/lib/python3.11/site-packages (from streamlit) (8.2.2)\n",
      "Requirement already satisfied: toml in /usr/local/lib/python3.11/site-packages (from streamlit) (0.10.2)\n",
      "Requirement already satisfied: typing-extensions>=3.10.0.0 in /usr/local/lib/python3.11/site-packages (from streamlit) (4.5.0)\n",
      "Requirement already satisfied: tzlocal>=1.1 in /usr/local/lib/python3.11/site-packages (from streamlit) (5.0.1)\n",
      "Requirement already satisfied: validators>=0.2 in /usr/local/lib/python3.11/site-packages (from streamlit) (0.20.0)\n",
      "Requirement already satisfied: gitpython!=3.1.19 in /usr/local/lib/python3.11/site-packages (from streamlit) (3.1.31)\n",
      "Requirement already satisfied: pydeck>=0.1.dev5 in /usr/local/lib/python3.11/site-packages (from streamlit) (0.8.1b0)\n",
      "Requirement already satisfied: tornado>=6.0.3 in /usr/local/lib/python3.11/site-packages (from streamlit) (6.2)\n",
      "Requirement already satisfied: entrypoints in /usr/local/lib/python3.11/site-packages (from altair<5,>=3.2.0->streamlit) (0.4)\n",
      "Requirement already satisfied: jinja2 in /usr/local/lib/python3.11/site-packages (from altair<5,>=3.2.0->streamlit) (3.1.2)\n",
      "Requirement already satisfied: jsonschema>=3.0 in /usr/local/lib/python3.11/site-packages (from altair<5,>=3.2.0->streamlit) (4.17.3)\n",
      "Requirement already satisfied: toolz in /usr/local/lib/python3.11/site-packages (from altair<5,>=3.2.0->streamlit) (0.12.0)\n",
      "Requirement already satisfied: gitdb<5,>=4.0.1 in /usr/local/lib/python3.11/site-packages (from gitpython!=3.1.19->streamlit) (4.0.10)\n",
      "Requirement already satisfied: zipp>=0.5 in /usr/local/lib/python3.11/site-packages (from importlib-metadata>=1.4->streamlit) (3.15.0)\n",
      "Requirement already satisfied: pytz>=2020.1 in /usr/local/lib/python3.11/site-packages (from pandas<3,>=0.25->streamlit) (2023.3)\n",
      "Requirement already satisfied: tzdata>=2022.1 in /usr/local/lib/python3.11/site-packages (from pandas<3,>=0.25->streamlit) (2023.3)\n"
     ]
    },
    {
     "name": "stdout",
     "output_type": "stream",
     "text": [
      "Requirement already satisfied: six>=1.5 in /usr/local/lib/python3.11/site-packages (from python-dateutil->streamlit) (1.16.0)\n",
      "Requirement already satisfied: charset-normalizer<4,>=2 in /usr/local/lib/python3.11/site-packages (from requests>=2.4->streamlit) (3.1.0)\n",
      "Requirement already satisfied: idna<4,>=2.5 in /usr/local/lib/python3.11/site-packages (from requests>=2.4->streamlit) (3.4)\n",
      "Requirement already satisfied: urllib3<3,>=1.21.1 in /usr/local/lib/python3.11/site-packages (from requests>=2.4->streamlit) (2.0.2)\n",
      "Requirement already satisfied: certifi>=2017.4.17 in /usr/local/lib/python3.11/site-packages (from requests>=2.4->streamlit) (2023.5.7)\n",
      "Requirement already satisfied: markdown-it-py<3.0.0,>=2.2.0 in /usr/local/lib/python3.11/site-packages (from rich>=10.11.0->streamlit) (2.2.0)\n",
      "Requirement already satisfied: pygments<3.0.0,>=2.13.0 in /usr/local/Cellar/pygments/2.14.0/libexec/lib/python3.11/site-packages (from rich>=10.11.0->streamlit) (2.14.0)\n",
      "Requirement already satisfied: decorator>=3.4.0 in /usr/local/lib/python3.11/site-packages (from validators>=0.2->streamlit) (5.1.1)\n",
      "Requirement already satisfied: smmap<6,>=3.0.1 in /usr/local/lib/python3.11/site-packages (from gitdb<5,>=4.0.1->gitpython!=3.1.19->streamlit) (5.0.0)\n",
      "Requirement already satisfied: MarkupSafe>=2.0 in /usr/local/lib/python3.11/site-packages (from jinja2->altair<5,>=3.2.0->streamlit) (2.1.2)\n",
      "Requirement already satisfied: attrs>=17.4.0 in /usr/local/lib/python3.11/site-packages (from jsonschema>=3.0->altair<5,>=3.2.0->streamlit) (22.2.0)\n",
      "Requirement already satisfied: pyrsistent!=0.17.0,!=0.17.1,!=0.17.2,>=0.14.0 in /usr/local/lib/python3.11/site-packages (from jsonschema>=3.0->altair<5,>=3.2.0->streamlit) (0.19.3)\n",
      "Requirement already satisfied: mdurl~=0.1 in /usr/local/lib/python3.11/site-packages (from markdown-it-py<3.0.0,>=2.2.0->rich>=10.11.0->streamlit) (0.1.2)\n",
      "\u001b[33mWARNING: Skipping /usr/local/lib/python3.11/site-packages/numpy-1.24.2-py3.11.egg-info due to invalid metadata entry 'name'\u001b[0m\u001b[33m\n",
      "\u001b[0m\u001b[33mWARNING: Skipping /usr/local/lib/python3.11/site-packages/numpy-1.24.2-py3.11.egg-info due to invalid metadata entry 'name'\u001b[0m\u001b[33m\n",
      "\u001b[0m\u001b[33mWARNING: Skipping /usr/local/lib/python3.11/site-packages/numpy-1.24.2-py3.11.egg-info due to invalid metadata entry 'name'\u001b[0m\u001b[33m\n",
      "\u001b[0m\u001b[33mWARNING: Skipping /usr/local/lib/python3.11/site-packages/numpy-1.24.2-py3.11.egg-info due to invalid metadata entry 'name'\u001b[0m\u001b[33m\n",
      "\u001b[0mRequirement already satisfied: openai in /usr/local/lib/python3.11/site-packages (0.27.6)\n",
      "Requirement already satisfied: requests>=2.20 in /usr/local/lib/python3.11/site-packages (from openai) (2.30.0)\n",
      "Requirement already satisfied: tqdm in /usr/local/lib/python3.11/site-packages (from openai) (4.65.0)\n",
      "Requirement already satisfied: aiohttp in /usr/local/lib/python3.11/site-packages (from openai) (3.8.4)\n",
      "Requirement already satisfied: charset-normalizer<4,>=2 in /usr/local/lib/python3.11/site-packages (from requests>=2.20->openai) (3.1.0)\n",
      "Requirement already satisfied: idna<4,>=2.5 in /usr/local/lib/python3.11/site-packages (from requests>=2.20->openai) (3.4)\n",
      "Requirement already satisfied: urllib3<3,>=1.21.1 in /usr/local/lib/python3.11/site-packages (from requests>=2.20->openai) (2.0.2)\n",
      "Requirement already satisfied: certifi>=2017.4.17 in /usr/local/lib/python3.11/site-packages (from requests>=2.20->openai) (2023.5.7)\n",
      "Requirement already satisfied: attrs>=17.3.0 in /usr/local/lib/python3.11/site-packages (from aiohttp->openai) (22.2.0)\n",
      "Requirement already satisfied: multidict<7.0,>=4.5 in /usr/local/lib/python3.11/site-packages (from aiohttp->openai) (6.0.4)\n",
      "Requirement already satisfied: async-timeout<5.0,>=4.0.0a3 in /usr/local/lib/python3.11/site-packages (from aiohttp->openai) (4.0.2)\n",
      "Requirement already satisfied: yarl<2.0,>=1.0 in /usr/local/lib/python3.11/site-packages (from aiohttp->openai) (1.9.2)\n",
      "Requirement already satisfied: frozenlist>=1.1.1 in /usr/local/lib/python3.11/site-packages (from aiohttp->openai) (1.3.3)\n",
      "Requirement already satisfied: aiosignal>=1.1.2 in /usr/local/lib/python3.11/site-packages (from aiohttp->openai) (1.3.1)\n",
      "\u001b[33mWARNING: Skipping /usr/local/lib/python3.11/site-packages/numpy-1.24.2-py3.11.egg-info due to invalid metadata entry 'name'\u001b[0m\u001b[33m\n",
      "\u001b[0m\u001b[33mWARNING: Skipping /usr/local/lib/python3.11/site-packages/numpy-1.24.2-py3.11.egg-info due to invalid metadata entry 'name'\u001b[0m\u001b[33m\n",
      "\u001b[0m\u001b[33mWARNING: Skipping /usr/local/lib/python3.11/site-packages/numpy-1.24.2-py3.11.egg-info due to invalid metadata entry 'name'\u001b[0m\u001b[33m\n",
      "\u001b[0m\u001b[33mWARNING: Skipping /usr/local/lib/python3.11/site-packages/numpy-1.24.2-py3.11.egg-info due to invalid metadata entry 'name'\u001b[0m\u001b[33m\n",
      "\u001b[0mRequirement already satisfied: aleph_alpha_client in /usr/local/lib/python3.11/site-packages (3.1.1)\n",
      "Requirement already satisfied: requests>=2.28 in /usr/local/lib/python3.11/site-packages (from aleph_alpha_client) (2.30.0)\n",
      "Requirement already satisfied: urllib3>=1.26 in /usr/local/lib/python3.11/site-packages (from aleph_alpha_client) (2.0.2)\n",
      "Requirement already satisfied: aiohttp>=3.8.3 in /usr/local/lib/python3.11/site-packages (from aleph_alpha_client) (3.8.4)\n",
      "Requirement already satisfied: aiodns>=3.0.0 in /usr/local/lib/python3.11/site-packages (from aleph_alpha_client) (3.0.0)\n",
      "Requirement already satisfied: aiohttp-retry>=2.8.3 in /usr/local/lib/python3.11/site-packages (from aleph_alpha_client) (2.8.3)\n",
      "Requirement already satisfied: tokenizers>=0.13.2 in /usr/local/lib/python3.11/site-packages (from aleph_alpha_client) (0.13.3)\n",
      "Requirement already satisfied: typing-extensions>=4.5.0 in /usr/local/lib/python3.11/site-packages (from aleph_alpha_client) (4.5.0)\n",
      "Requirement already satisfied: Pillow>=9.2.0 in /usr/local/lib/python3.11/site-packages (from aleph_alpha_client) (9.5.0)\n",
      "Requirement already satisfied: pycares>=4.0.0 in /usr/local/lib/python3.11/site-packages (from aiodns>=3.0.0->aleph_alpha_client) (4.3.0)\n",
      "Requirement already satisfied: attrs>=17.3.0 in /usr/local/lib/python3.11/site-packages (from aiohttp>=3.8.3->aleph_alpha_client) (22.2.0)\n",
      "Requirement already satisfied: charset-normalizer<4.0,>=2.0 in /usr/local/lib/python3.11/site-packages (from aiohttp>=3.8.3->aleph_alpha_client) (3.1.0)\n",
      "Requirement already satisfied: multidict<7.0,>=4.5 in /usr/local/lib/python3.11/site-packages (from aiohttp>=3.8.3->aleph_alpha_client) (6.0.4)\n",
      "Requirement already satisfied: async-timeout<5.0,>=4.0.0a3 in /usr/local/lib/python3.11/site-packages (from aiohttp>=3.8.3->aleph_alpha_client) (4.0.2)\n",
      "Requirement already satisfied: yarl<2.0,>=1.0 in /usr/local/lib/python3.11/site-packages (from aiohttp>=3.8.3->aleph_alpha_client) (1.9.2)\n",
      "Requirement already satisfied: frozenlist>=1.1.1 in /usr/local/lib/python3.11/site-packages (from aiohttp>=3.8.3->aleph_alpha_client) (1.3.3)\n",
      "Requirement already satisfied: aiosignal>=1.1.2 in /usr/local/lib/python3.11/site-packages (from aiohttp>=3.8.3->aleph_alpha_client) (1.3.1)\n",
      "Requirement already satisfied: idna<4,>=2.5 in /usr/local/lib/python3.11/site-packages (from requests>=2.28->aleph_alpha_client) (3.4)\n",
      "Requirement already satisfied: certifi>=2017.4.17 in /usr/local/lib/python3.11/site-packages (from requests>=2.28->aleph_alpha_client) (2023.5.7)\n",
      "Requirement already satisfied: cffi>=1.5.0 in /usr/local/lib/python3.11/site-packages (from pycares>=4.0.0->aiodns>=3.0.0->aleph_alpha_client) (1.15.1)\n",
      "Requirement already satisfied: pycparser in /usr/local/lib/python3.11/site-packages (from cffi>=1.5.0->pycares>=4.0.0->aiodns>=3.0.0->aleph_alpha_client) (2.21)\n",
      "\u001b[33mWARNING: Skipping /usr/local/lib/python3.11/site-packages/numpy-1.24.2-py3.11.egg-info due to invalid metadata entry 'name'\u001b[0m\u001b[33m\n",
      "\u001b[0m\u001b[33mWARNING: Skipping /usr/local/lib/python3.11/site-packages/numpy-1.24.2-py3.11.egg-info due to invalid metadata entry 'name'\u001b[0m\u001b[33m\n",
      "\u001b[0m\u001b[33mWARNING: Skipping /usr/local/lib/python3.11/site-packages/numpy-1.24.2-py3.11.egg-info due to invalid metadata entry 'name'\u001b[0m\u001b[33m\n",
      "\u001b[0m\u001b[33mWARNING: Skipping /usr/local/lib/python3.11/site-packages/numpy-1.24.2-py3.11.egg-info due to invalid metadata entry 'name'\u001b[0m\u001b[33m\n",
      "\u001b[0mRequirement already satisfied: replicate in /usr/local/lib/python3.11/site-packages (0.8.2)\n",
      "Requirement already satisfied: packaging in /usr/local/lib/python3.11/site-packages (from replicate) (23.0)\n",
      "Requirement already satisfied: pydantic>1 in /usr/local/lib/python3.11/site-packages (from replicate) (1.10.7)\n",
      "Requirement already satisfied: requests>2 in /usr/local/lib/python3.11/site-packages (from replicate) (2.30.0)\n"
     ]
    },
    {
     "name": "stdout",
     "output_type": "stream",
     "text": [
      "Requirement already satisfied: typing-extensions>=4.2.0 in /usr/local/lib/python3.11/site-packages (from pydantic>1->replicate) (4.5.0)\n",
      "Requirement already satisfied: charset-normalizer<4,>=2 in /usr/local/lib/python3.11/site-packages (from requests>2->replicate) (3.1.0)\n",
      "Requirement already satisfied: idna<4,>=2.5 in /usr/local/lib/python3.11/site-packages (from requests>2->replicate) (3.4)\n",
      "Requirement already satisfied: urllib3<3,>=1.21.1 in /usr/local/lib/python3.11/site-packages (from requests>2->replicate) (2.0.2)\n",
      "Requirement already satisfied: certifi>=2017.4.17 in /usr/local/lib/python3.11/site-packages (from requests>2->replicate) (2023.5.7)\n",
      "\u001b[33mWARNING: Skipping /usr/local/lib/python3.11/site-packages/numpy-1.24.2-py3.11.egg-info due to invalid metadata entry 'name'\u001b[0m\u001b[33m\n",
      "\u001b[0m\u001b[33mWARNING: Skipping /usr/local/lib/python3.11/site-packages/numpy-1.24.2-py3.11.egg-info due to invalid metadata entry 'name'\u001b[0m\u001b[33m\n",
      "\u001b[0m\u001b[33mWARNING: Skipping /usr/local/lib/python3.11/site-packages/numpy-1.24.2-py3.11.egg-info due to invalid metadata entry 'name'\u001b[0m\u001b[33m\n",
      "\u001b[0m\u001b[33mWARNING: Skipping /usr/local/lib/python3.11/site-packages/numpy-1.24.2-py3.11.egg-info due to invalid metadata entry 'name'\u001b[0m\u001b[33m\n",
      "\u001b[0mRequirement already satisfied: huggingface_hub in /usr/local/lib/python3.11/site-packages (0.14.1)\n",
      "Requirement already satisfied: filelock in /usr/local/lib/python3.11/site-packages (from huggingface_hub) (3.12.0)\n",
      "Requirement already satisfied: fsspec in /usr/local/lib/python3.11/site-packages (from huggingface_hub) (2023.5.0)\n",
      "Requirement already satisfied: requests in /usr/local/lib/python3.11/site-packages (from huggingface_hub) (2.30.0)\n",
      "Requirement already satisfied: tqdm>=4.42.1 in /usr/local/lib/python3.11/site-packages (from huggingface_hub) (4.65.0)\n",
      "Requirement already satisfied: pyyaml>=5.1 in /usr/local/lib/python3.11/site-packages (from huggingface_hub) (6.0)\n",
      "Requirement already satisfied: typing-extensions>=3.7.4.3 in /usr/local/lib/python3.11/site-packages (from huggingface_hub) (4.5.0)\n",
      "Requirement already satisfied: packaging>=20.9 in /usr/local/lib/python3.11/site-packages (from huggingface_hub) (23.0)\n",
      "Requirement already satisfied: charset-normalizer<4,>=2 in /usr/local/lib/python3.11/site-packages (from requests->huggingface_hub) (3.1.0)\n",
      "Requirement already satisfied: idna<4,>=2.5 in /usr/local/lib/python3.11/site-packages (from requests->huggingface_hub) (3.4)\n",
      "Requirement already satisfied: urllib3<3,>=1.21.1 in /usr/local/lib/python3.11/site-packages (from requests->huggingface_hub) (2.0.2)\n",
      "Requirement already satisfied: certifi>=2017.4.17 in /usr/local/lib/python3.11/site-packages (from requests->huggingface_hub) (2023.5.7)\n",
      "\u001b[33mWARNING: Skipping /usr/local/lib/python3.11/site-packages/numpy-1.24.2-py3.11.egg-info due to invalid metadata entry 'name'\u001b[0m\u001b[33m\n",
      "\u001b[0m\u001b[33mWARNING: Skipping /usr/local/lib/python3.11/site-packages/numpy-1.24.2-py3.11.egg-info due to invalid metadata entry 'name'\u001b[0m\u001b[33m\n",
      "\u001b[0m\u001b[33mWARNING: Skipping /usr/local/lib/python3.11/site-packages/numpy-1.24.2-py3.11.egg-info due to invalid metadata entry 'name'\u001b[0m\u001b[33m\n",
      "\u001b[0m\u001b[33mWARNING: Skipping /usr/local/lib/python3.11/site-packages/numpy-1.24.2-py3.11.egg-info due to invalid metadata entry 'name'\u001b[0m\u001b[33m\n",
      "\u001b[0mRequirement already satisfied: chromadb in /usr/local/lib/python3.11/site-packages (0.3.25)\n",
      "Requirement already satisfied: pandas>=1.3 in /usr/local/lib/python3.11/site-packages (from chromadb) (2.0.0)\n",
      "Requirement already satisfied: requests>=2.28 in /usr/local/lib/python3.11/site-packages (from chromadb) (2.30.0)\n",
      "Requirement already satisfied: pydantic>=1.9 in /usr/local/lib/python3.11/site-packages (from chromadb) (1.10.7)\n",
      "Requirement already satisfied: hnswlib>=0.7 in /usr/local/lib/python3.11/site-packages (from chromadb) (0.7.0)\n",
      "Requirement already satisfied: clickhouse-connect>=0.5.7 in /usr/local/lib/python3.11/site-packages (from chromadb) (0.5.25)\n",
      "Requirement already satisfied: duckdb>=0.7.1 in /usr/local/lib/python3.11/site-packages (from chromadb) (0.8.0)\n",
      "Requirement already satisfied: fastapi>=0.85.1 in /usr/local/lib/python3.11/site-packages (from chromadb) (0.95.2)\n",
      "Requirement already satisfied: uvicorn[standard]>=0.18.3 in /usr/local/lib/python3.11/site-packages (from chromadb) (0.22.0)\n",
      "Requirement already satisfied: numpy>=1.21.6 in /usr/local/lib/python3.11/site-packages (from chromadb) (1.24.2)\n",
      "Requirement already satisfied: posthog>=2.4.0 in /usr/local/lib/python3.11/site-packages (from chromadb) (3.0.1)\n",
      "Requirement already satisfied: onnxruntime>=1.14.1 in /usr/local/lib/python3.11/site-packages (from chromadb) (1.15.0)\n",
      "Requirement already satisfied: tokenizers>=0.13.2 in /usr/local/lib/python3.11/site-packages (from chromadb) (0.13.3)\n",
      "Requirement already satisfied: tqdm>=4.65.0 in /usr/local/lib/python3.11/site-packages (from chromadb) (4.65.0)\n",
      "Requirement already satisfied: typing-extensions>=4.5.0 in /usr/local/lib/python3.11/site-packages (from chromadb) (4.5.0)\n",
      "Requirement already satisfied: overrides>=7.3.1 in /usr/local/lib/python3.11/site-packages (from chromadb) (7.3.1)\n",
      "Requirement already satisfied: certifi in /usr/local/lib/python3.11/site-packages (from clickhouse-connect>=0.5.7->chromadb) (2023.5.7)\n",
      "Requirement already satisfied: urllib3>=1.26 in /usr/local/lib/python3.11/site-packages (from clickhouse-connect>=0.5.7->chromadb) (2.0.2)\n",
      "Requirement already satisfied: pytz in /usr/local/lib/python3.11/site-packages (from clickhouse-connect>=0.5.7->chromadb) (2023.3)\n",
      "Requirement already satisfied: zstandard in /usr/local/lib/python3.11/site-packages (from clickhouse-connect>=0.5.7->chromadb) (0.21.0)\n",
      "Requirement already satisfied: lz4 in /usr/local/lib/python3.11/site-packages (from clickhouse-connect>=0.5.7->chromadb) (4.3.2)\n",
      "Requirement already satisfied: starlette<0.28.0,>=0.27.0 in /usr/local/lib/python3.11/site-packages (from fastapi>=0.85.1->chromadb) (0.27.0)\n",
      "Requirement already satisfied: coloredlogs in /usr/local/lib/python3.11/site-packages (from onnxruntime>=1.14.1->chromadb) (15.0.1)\n",
      "Requirement already satisfied: flatbuffers in /usr/local/lib/python3.11/site-packages (from onnxruntime>=1.14.1->chromadb) (23.5.26)\n",
      "Requirement already satisfied: packaging in /usr/local/lib/python3.11/site-packages (from onnxruntime>=1.14.1->chromadb) (23.0)\n",
      "Requirement already satisfied: protobuf in /usr/local/lib/python3.11/site-packages (from onnxruntime>=1.14.1->chromadb) (3.20.3)\n",
      "Requirement already satisfied: sympy in /usr/local/lib/python3.11/site-packages (from onnxruntime>=1.14.1->chromadb) (1.12)\n",
      "Requirement already satisfied: python-dateutil>=2.8.2 in /usr/local/lib/python3.11/site-packages (from pandas>=1.3->chromadb) (2.8.2)\n",
      "Requirement already satisfied: tzdata>=2022.1 in /usr/local/lib/python3.11/site-packages (from pandas>=1.3->chromadb) (2023.3)\n",
      "Requirement already satisfied: six>=1.5 in /usr/local/lib/python3.11/site-packages (from posthog>=2.4.0->chromadb) (1.16.0)\n",
      "Requirement already satisfied: monotonic>=1.5 in /usr/local/lib/python3.11/site-packages (from posthog>=2.4.0->chromadb) (1.6)\n",
      "Requirement already satisfied: backoff>=1.10.0 in /usr/local/lib/python3.11/site-packages (from posthog>=2.4.0->chromadb) (2.2.1)\n",
      "Requirement already satisfied: charset-normalizer<4,>=2 in /usr/local/lib/python3.11/site-packages (from requests>=2.28->chromadb) (3.1.0)\n",
      "Requirement already satisfied: idna<4,>=2.5 in /usr/local/lib/python3.11/site-packages (from requests>=2.28->chromadb) (3.4)\n",
      "Requirement already satisfied: click>=7.0 in /usr/local/lib/python3.11/site-packages (from uvicorn[standard]>=0.18.3->chromadb) (8.1.3)\n",
      "Requirement already satisfied: h11>=0.8 in /usr/local/lib/python3.11/site-packages (from uvicorn[standard]>=0.18.3->chromadb) (0.14.0)\n",
      "Requirement already satisfied: httptools>=0.5.0 in /usr/local/lib/python3.11/site-packages (from uvicorn[standard]>=0.18.3->chromadb) (0.5.0)\n",
      "Requirement already satisfied: python-dotenv>=0.13 in /usr/local/lib/python3.11/site-packages (from uvicorn[standard]>=0.18.3->chromadb) (1.0.0)\n",
      "Requirement already satisfied: pyyaml>=5.1 in /usr/local/lib/python3.11/site-packages (from uvicorn[standard]>=0.18.3->chromadb) (6.0)\n",
      "Requirement already satisfied: uvloop!=0.15.0,!=0.15.1,>=0.14.0 in /usr/local/lib/python3.11/site-packages (from uvicorn[standard]>=0.18.3->chromadb) (0.17.0)\n",
      "Requirement already satisfied: watchfiles>=0.13 in /usr/local/lib/python3.11/site-packages (from uvicorn[standard]>=0.18.3->chromadb) (0.19.0)\n",
      "Requirement already satisfied: websockets>=10.4 in /usr/local/lib/python3.11/site-packages (from uvicorn[standard]>=0.18.3->chromadb) (11.0.3)\n"
     ]
    },
    {
     "name": "stdout",
     "output_type": "stream",
     "text": [
      "Requirement already satisfied: anyio<5,>=3.4.0 in /usr/local/lib/python3.11/site-packages (from starlette<0.28.0,>=0.27.0->fastapi>=0.85.1->chromadb) (3.6.2)\n",
      "Requirement already satisfied: humanfriendly>=9.1 in /usr/local/lib/python3.11/site-packages (from coloredlogs->onnxruntime>=1.14.1->chromadb) (10.0)\n",
      "Requirement already satisfied: mpmath>=0.19 in /usr/local/lib/python3.11/site-packages (from sympy->onnxruntime>=1.14.1->chromadb) (1.3.0)\n",
      "Requirement already satisfied: sniffio>=1.1 in /usr/local/lib/python3.11/site-packages (from anyio<5,>=3.4.0->starlette<0.28.0,>=0.27.0->fastapi>=0.85.1->chromadb) (1.3.0)\n",
      "\u001b[33mWARNING: Skipping /usr/local/lib/python3.11/site-packages/numpy-1.24.2-py3.11.egg-info due to invalid metadata entry 'name'\u001b[0m\u001b[33m\n",
      "\u001b[0m\u001b[33mWARNING: Skipping /usr/local/lib/python3.11/site-packages/numpy-1.24.2-py3.11.egg-info due to invalid metadata entry 'name'\u001b[0m\u001b[33m\n",
      "\u001b[0m\u001b[33mWARNING: Skipping /usr/local/lib/python3.11/site-packages/numpy-1.24.2-py3.11.egg-info due to invalid metadata entry 'name'\u001b[0m\u001b[33m\n",
      "\u001b[0m\u001b[33mWARNING: Skipping /usr/local/lib/python3.11/site-packages/numpy-1.24.2-py3.11.egg-info due to invalid metadata entry 'name'\u001b[0m\u001b[33m\n",
      "\u001b[0mRequirement already satisfied: tiktoken in /usr/local/lib/python3.11/site-packages (0.4.0)\n",
      "Requirement already satisfied: regex>=2022.1.18 in /usr/local/lib/python3.11/site-packages (from tiktoken) (2023.5.5)\n",
      "Requirement already satisfied: requests>=2.26.0 in /usr/local/lib/python3.11/site-packages (from tiktoken) (2.30.0)\n",
      "Requirement already satisfied: charset-normalizer<4,>=2 in /usr/local/lib/python3.11/site-packages (from requests>=2.26.0->tiktoken) (3.1.0)\n",
      "Requirement already satisfied: idna<4,>=2.5 in /usr/local/lib/python3.11/site-packages (from requests>=2.26.0->tiktoken) (3.4)\n",
      "Requirement already satisfied: urllib3<3,>=1.21.1 in /usr/local/lib/python3.11/site-packages (from requests>=2.26.0->tiktoken) (2.0.2)\n",
      "Requirement already satisfied: certifi>=2017.4.17 in /usr/local/lib/python3.11/site-packages (from requests>=2.26.0->tiktoken) (2023.5.7)\n",
      "\u001b[33mWARNING: Skipping /usr/local/lib/python3.11/site-packages/numpy-1.24.2-py3.11.egg-info due to invalid metadata entry 'name'\u001b[0m\u001b[33m\n",
      "\u001b[0m\u001b[33mWARNING: Skipping /usr/local/lib/python3.11/site-packages/numpy-1.24.2-py3.11.egg-info due to invalid metadata entry 'name'\u001b[0m\u001b[33m\n",
      "\u001b[0m"
     ]
    }
   ],
   "source": [
    "!pip install langchain\n",
    "!pip install streamlit\n",
    "!pip install openai\n",
    "!pip install aleph_alpha_client\n",
    "!pip install replicate\n",
    "!pip install huggingface_hub\n",
    "!pip install chromadb\n",
    "!pip install tiktoken"
   ]
  },
  {
   "cell_type": "code",
   "execution_count": 2,
   "id": "2b2070d0",
   "metadata": {},
   "outputs": [],
   "source": [
    "import os\n",
    "# Setup API keys"
   ]
  },
  {
   "cell_type": "markdown",
   "id": "cbb6d141",
   "metadata": {},
   "source": [
    "# Quick Intro to LangChain\n",
    "\n",
    "What are\n",
    "- Prompts\n",
    "- Chains\n",
    "- Indexes\n",
    "\n",
    "Other important ideas I won't cover now:\n",
    "- Memory\n",
    "- Agents"
   ]
  },
  {
   "cell_type": "code",
   "execution_count": 30,
   "id": "af80a503",
   "metadata": {},
   "outputs": [
    {
     "name": "stdout",
     "output_type": "stream",
     "text": [
      "\n",
      "Rainbow Socks Co.\n"
     ]
    }
   ],
   "source": [
    "from langchain import PromptTemplate\n",
    "from langchain.llms import OpenAI\n",
    "from langchain.chains import LLMChain\n",
    "\n",
    "template = \"\"\"\n",
    "I want you to act as a naming consultant for new companies.\n",
    "What is a good name for a company that makes {product}?\n",
    "\"\"\"\n",
    "\n",
    "prompt = PromptTemplate(\n",
    "    input_variables=[\"product\"],\n",
    "    template=template,\n",
    ")\n",
    "\n",
    "llm = OpenAI(temperature=0)\n",
    "\n",
    "chain = LLMChain(llm=llm, prompt=prompt)\n",
    "\n",
    "result = chain.run(\"colorful socks\")\n",
    "\n",
    "print(result)"
   ]
  },
  {
   "cell_type": "code",
   "execution_count": 31,
   "id": "527104eb",
   "metadata": {},
   "outputs": [
    {
     "name": "stdout",
     "output_type": "stream",
     "text": [
      "page_content='How to Handle a SegFault:\\n\\nWhen the service encounters a segmentation fault, the proper solution is to restart the service. \\nThis can be done by providing the following command to the VM: \\n\\n```\\nsudo service restart\\n```\\n' metadata={'error': 'segmentation fault'}\n",
      "\n",
      "page_content='How to Handle a Timeout:\\n\\nWhen the service hits timeouts, we need to investigate whether or not there is enough space left on the device.\\nTo do this, we need to run the following command:\\n\\n```\\nsudo df\\n```\\n' metadata={'error': 'timeout'}\n",
      "\n",
      "page_content='How to Handle a Disk Error:\\n\\nDisk errors mean the entire VM has reached a bad state. We need to reboot the entire VM by running this command: \\n\\n```\\nsudo reboot\\n```\\n' metadata={'error': 'disk error'}\n",
      "\n"
     ]
    }
   ],
   "source": [
    "from demo.chains.oncall_agent.runbook_documents import DOCS\n",
    "\n",
    "for doc in DOCS:\n",
    "    print(doc)\n",
    "    print(\"\")"
   ]
  },
  {
   "cell_type": "code",
   "execution_count": 37,
   "id": "c5334a10",
   "metadata": {},
   "outputs": [
    {
     "name": "stdout",
     "output_type": "stream",
     "text": [
      "[{'text': ' sudo service restart'}]\n"
     ]
    }
   ],
   "source": [
    "from demo.chains.oncall_agent.oncall_agent_chain import OncallChain\n",
    "\n",
    "index = create_index()\n",
    "error = \"segfault\"\n",
    "\n",
    "docs = index.similarity_search(error, k=1)\n",
    "inputs = [{\"runbook\": doc.page_content, \"error\": error} for doc in docs]\n",
    "chain = OncallChain.from_llm(llm)\n",
    "result = chain.apply(inputs)\n",
    "\n",
    "print(result)"
   ]
  },
  {
   "cell_type": "markdown",
   "id": "b9caf4af",
   "metadata": {},
   "source": [
    "# Data Generation and Auto-Evaluation\n",
    "\n"
   ]
  },
  {
   "cell_type": "markdown",
   "id": "6ce2a531",
   "metadata": {},
   "source": [
    "Two important insights:\n",
    "\n",
    "* Chains can be prompted to produce synthetic data\n",
    "* Chains can evaluate output from other LLMs\n",
    "\n",
    "See [Auto-evaluator](https://autoevaluator.langchain.com/) for an example of evaluating question answering on documents."
   ]
  },
  {
   "cell_type": "markdown",
   "id": "e89d1e90",
   "metadata": {},
   "source": [
    "# Example 1: Sales Email Generation"
   ]
  },
  {
   "cell_type": "code",
   "execution_count": 3,
   "id": "f70de9bf",
   "metadata": {},
   "outputs": [
    {
     "name": "stderr",
     "output_type": "stream",
     "text": [
      "2023-05-27 08:17:14.401 WARNING streamlit.runtime.caching.cache_data_api: No runtime found, using MemoryCacheStorageManager\n",
      "2023-05-27 08:17:14.587 \n",
      "  \u001b[33m\u001b[1mWarning:\u001b[0m to view this Streamlit app on a browser, run it with the following\n",
      "  command:\n",
      "\n",
      "    streamlit run /usr/local/lib/python3.11/site-packages/ipykernel_launcher.py [ARGUMENTS]\n",
      "2023-05-27 08:17:14.588 No runtime found, using MemoryCacheStorageManager\n"
     ]
    }
   ],
   "source": [
    "from demo.synthesizers.json_synthesizer.synthesize_data import synthesize\n",
    "\n",
    "text_input = \"\"\"\n",
    "The goal of this language model task is to generate cold sales emails.\n",
    "The input is a JSON containing a few details about a customer.\n",
    "\n",
    "An example of the input would be: \n",
    "```\n",
    "{{\n",
    "    \"Name\": \"Artur Moczulski\",\n",
    "    \"Title\": \"CTO\",\n",
    "    \"Company\": \"Scout AI\",\n",
    "}}\n",
    "```\n",
    "Your prompts should follow this JSON format.\n",
    "Everything between the ``` must be valid json.\n",
    "Generate one such JSON input.\n",
    "\"\"\"\n",
    "\n",
    "synthesized_data = synthesize(text_input, 1)"
   ]
  },
  {
   "cell_type": "code",
   "execution_count": 4,
   "id": "22125076",
   "metadata": {},
   "outputs": [
    {
     "name": "stdout",
     "output_type": "stream",
     "text": [
      "[{'Name': 'John Smith', 'Title': 'CEO', 'Company': 'ABC Inc.'}]\n"
     ]
    }
   ],
   "source": [
    "print(synthesized_data[0]['inputs'])"
   ]
  },
  {
   "cell_type": "code",
   "execution_count": 5,
   "id": "31ee2ba7",
   "metadata": {
    "scrolled": true
   },
   "outputs": [
    {
     "name": "stderr",
     "output_type": "stream",
     "text": [
      "2023-05-27 08:17:16.981 No runtime found, using MemoryCacheStorageManager\n",
      "2023-05-27 08:17:16.983 No runtime found, using MemoryCacheStorageManager\n"
     ]
    }
   ],
   "source": [
    "from demo.chains.sdr_agent.generate_email import generate_email\n",
    "\n",
    "email = generate_email(synthesized_data)"
   ]
  },
  {
   "cell_type": "code",
   "execution_count": 6,
   "id": "feb0899e",
   "metadata": {},
   "outputs": [
    {
     "name": "stdout",
     "output_type": "stream",
     "text": [
      "Subject: AI-powered LLM evaluation for ABC Inc.\n",
      "\n",
      "Dear John,\n",
      "\n",
      "I hope this email finds you well. My name is [Your Name] and I am a Sales Development Representative at [Your Company], a startup that specializes in helping software development teams evaluate LLMs for use in their products.\n",
      "\n",
      "I came across ABC Inc. and was impressed by your company's innovative approach to [mention something specific about their business]. As a CEO, I understand that you are always looking for ways to improve your products and stay ahead of the competition.\n",
      "\n",
      "That's where our AI-powered LLM evaluation comes in. Our technology can help your development team evaluate LLMs quickly and accurately, saving you time and resources. Our platform is user-friendly and can be easily integrated into your existing workflow.\n",
      "\n",
      "I would love to schedule a brief call with you to discuss how our technology can benefit ABC Inc. and answer any questions you may have. Please let me know if this is something you would be interested in.\n",
      "\n",
      "Thank you for your time and consideration. I look forward to hearing from you soon.\n",
      "\n",
      "Best regards,\n",
      "\n",
      "[Your Name]\n"
     ]
    }
   ],
   "source": [
    "print(email[0])"
   ]
  },
  {
   "cell_type": "code",
   "execution_count": 7,
   "id": "3b20c174",
   "metadata": {},
   "outputs": [
    {
     "name": "stderr",
     "output_type": "stream",
     "text": [
      "2023-05-27 08:17:32.672 No runtime found, using MemoryCacheStorageManager\n",
      "2023-05-27 08:17:32.674 No runtime found, using MemoryCacheStorageManager\n"
     ]
    }
   ],
   "source": [
    "from demo.evaluators.cold_email_binary_evaluator.evaluate_email import evaluate\n",
    "\n",
    "result = evaluate(synthesized_data[0]['inputs'], email)"
   ]
  },
  {
   "cell_type": "code",
   "execution_count": 8,
   "id": "042908d2",
   "metadata": {},
   "outputs": [
    {
     "name": "stdout",
     "output_type": "stream",
     "text": [
      "[{'text': 'SATISFACTORY. The SDR addressed the customer by name and title, and mentioned something specific about their business. The email is clear and convincing, highlighting the benefits of the technology and offering to schedule a call to discuss further.'}]\n"
     ]
    }
   ],
   "source": [
    "print(result)"
   ]
  },
  {
   "cell_type": "code",
   "execution_count": 9,
   "id": "c2376bce",
   "metadata": {},
   "outputs": [],
   "source": [
    "from langchain.llms import Replicate\n",
    "DOLLY_MODEL = \"replicate/dolly-v2-12b:ef0e1aefc61f8e096ebe4db6b2bacc297daf2ef6899f0f7e001ec445893500e5\"\n",
    "\n",
    "email2 = generate_email(synthesized_data, Replicate(model=DOLLY_MODEL))"
   ]
  },
  {
   "cell_type": "code",
   "execution_count": 10,
   "id": "e2a19548",
   "metadata": {},
   "outputs": [
    {
     "name": "stdout",
     "output_type": "stream",
     "text": [
      "Hi Customer!,\n",
      "\n",
      "I'm happy to talk about what NLP or Text Modeling could help [your company] achieve. Could what NLP or Text Modeling could help [your company] achieve. Could what NLP or Text Modeling could help [your company] achieve. Could you let me know if there's someone who can assist with this topic today? I've about what NLP or Text Modeling could help [your company] achieve. Could you let me know if there's someone who can assist with this topic today? I've included some information that might be of interest.\n",
      "\n",
      "\n"
     ]
    }
   ],
   "source": [
    "print(email2[0])"
   ]
  },
  {
   "cell_type": "code",
   "execution_count": 11,
   "id": "fa166148",
   "metadata": {},
   "outputs": [],
   "source": [
    "result = evaluate(synthesized_data[0]['inputs'], email2)"
   ]
  },
  {
   "cell_type": "code",
   "execution_count": 12,
   "id": "7b28628b",
   "metadata": {},
   "outputs": [
    {
     "name": "stdout",
     "output_type": "stream",
     "text": [
      "UNSATISFACTORY\n",
      "\n",
      "The email does not address the customer by name or title, and the content is repetitive and unclear. The SDR should take more time to personalize the email and clearly explain the benefits of NLP or Text Modeling for the customer's specific company.\n"
     ]
    }
   ],
   "source": [
    "print(result[0]['text'])"
   ]
  },
  {
   "cell_type": "code",
   "execution_count": 13,
   "id": "24329359",
   "metadata": {},
   "outputs": [
    {
     "name": "stderr",
     "output_type": "stream",
     "text": [
      "2023-05-27 08:17:47.284 No runtime found, using MemoryCacheStorageManager\n",
      "2023-05-27 08:17:47.286 No runtime found, using MemoryCacheStorageManager\n"
     ]
    }
   ],
   "source": [
    "from demo.evaluators.cold_email_comparator_evaluator.evaluate_email import evaluate\n",
    "\n",
    "result = evaluate(synthesized_data[0]['inputs'], email, email2)"
   ]
  },
  {
   "cell_type": "code",
   "execution_count": 14,
   "id": "00afe7f9",
   "metadata": {},
   "outputs": [
    {
     "name": "stdout",
     "output_type": "stream",
     "text": [
      "EMAIL A\n",
      "EXPLANATION: \n",
      "Email A is the better choice because it is clear, concise, and personalized. The SDR addresses the customer by name and company, and mentions something specific about their business to show that they have done their research. The email also clearly explains how the AI-powered LLM evaluation can benefit the customer's development team, and offers to schedule a call to discuss further. In contrast, Email B is poorly written, with grammatical errors and unclear language. It also lacks personalization and does not clearly explain how the product can benefit the customer.\n"
     ]
    }
   ],
   "source": [
    "print(result[0]['text'])"
   ]
  },
  {
   "cell_type": "markdown",
   "id": "f4ae7f7c",
   "metadata": {},
   "source": [
    "# Example 2: Oncall Bot"
   ]
  },
  {
   "cell_type": "code",
   "execution_count": 16,
   "id": "ad3905bb",
   "metadata": {},
   "outputs": [],
   "source": [
    "from demo.chains.oncall_agent.runbook_documents import create_index\n",
    "from demo.chains.oncall_agent.generate_command import generate_command\n",
    "\n",
    "error = \"Error: segfault\"\n",
    "command = generate_command(error, index)"
   ]
  },
  {
   "cell_type": "code",
   "execution_count": 17,
   "id": "a1b64e17",
   "metadata": {},
   "outputs": [
    {
     "name": "stdout",
     "output_type": "stream",
     "text": [
      "[{'text': ' sudo service restart'}]\n"
     ]
    }
   ],
   "source": [
    "print(command)"
   ]
  },
  {
   "cell_type": "code",
   "execution_count": 20,
   "id": "6461bdf7",
   "metadata": {},
   "outputs": [
    {
     "name": "stdout",
     "output_type": "stream",
     "text": [
      "[{'text': ' SUCCESS\\n\\nThe Site Reliability Engineer correctly followed the runbook and provided the correct command to restart the service. Therefore, they should be given a grade of SUCCESS.'}]\n"
     ]
    }
   ],
   "source": [
    "from demo.evaluators.oncall_action_evaluator.evaluate_action import evalaute\n",
    "\n",
    "result = evalaute(error, command, index)"
   ]
  },
  {
   "cell_type": "markdown",
   "id": "36006545",
   "metadata": {},
   "source": [
    "# Using HuggingFace"
   ]
  },
  {
   "cell_type": "code",
   "execution_count": 22,
   "id": "ec46c18e",
   "metadata": {},
   "outputs": [],
   "source": [
    "from langchain.llms import HuggingFaceEndpoint\n",
    "endpoint_url = (\n",
    "    \"endpoint_url_here\"\n",
    ")\n",
    "hf = HuggingFaceEndpoint(\n",
    "    endpoint_url=endpoint_url,\n",
    "    huggingfacehub_api_token=\"api_key_here\"\n",
    ")\n",
    "\n",
    "hf.task = \"text2text-generation\"\n"
   ]
  }
 ],
 "metadata": {
  "kernelspec": {
   "display_name": "Python 3 (ipykernel)",
   "language": "python",
   "name": "python3"
  },
  "language_info": {
   "codemirror_mode": {
    "name": "ipython",
    "version": 3
   },
   "file_extension": ".py",
   "mimetype": "text/x-python",
   "name": "python",
   "nbconvert_exporter": "python",
   "pygments_lexer": "ipython3",
   "version": "3.11.2"
  }
 },
 "nbformat": 4,
 "nbformat_minor": 5
}
